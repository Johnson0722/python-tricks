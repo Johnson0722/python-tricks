{
 "cells": [
  {
   "cell_type": "markdown",
   "id": "75cdc974-2763-48c3-9fb8-5f9f2ff04fc3",
   "metadata": {},
   "source": [
    "# assert"
   ]
  },
  {
   "cell_type": "markdown",
   "id": "47689d3d-9409-4dd0-8c92-67a24baee575",
   "metadata": {},
   "source": [
    "**Python’s assert statement is a debugging aid that tests a\n",
    "condition. If the assert condition is true, nothing happens, and your\n",
    "program continues to execute as normal. But if the condition evaluates\n",
    "to false, an AssertionError exception is raised with an optional\n",
    "error message.**"
   ]
  },
  {
   "cell_type": "code",
   "execution_count": 1,
   "id": "650d75fd-6974-4abe-8d77-d4f42af8f60a",
   "metadata": {},
   "outputs": [],
   "source": [
    "def apply_discount(product, discount):\n",
    "    p = int(product[\"price\"] * (1 - discount))\n",
    "    assert 0 <= p <= product[\"price\"]\n",
    "    return p"
   ]
  },
  {
   "cell_type": "code",
   "execution_count": 2,
   "id": "140ccbd7-e174-4432-a6de-8acd304a4340",
   "metadata": {},
   "outputs": [
    {
     "data": {
      "text/plain": [
       "11175"
      ]
     },
     "execution_count": 2,
     "metadata": {},
     "output_type": "execute_result"
    }
   ],
   "source": [
    "shoes = {'name': 'Fancy Shoes', 'price': 14900}\n",
    "apply_discount(shoes, 0.25)"
   ]
  },
  {
   "cell_type": "code",
   "execution_count": 3,
   "id": "f1e71323-8a1f-461b-980c-aa29f4404532",
   "metadata": {},
   "outputs": [
    {
     "ename": "AssertionError",
     "evalue": "",
     "output_type": "error",
     "traceback": [
      "\u001b[0;31m---------------------------------------------------------------------------\u001b[0m",
      "\u001b[0;31mAssertionError\u001b[0m                            Traceback (most recent call last)",
      "\u001b[0;32m<ipython-input-3-627aa0783382>\u001b[0m in \u001b[0;36m<module>\u001b[0;34m\u001b[0m\n\u001b[1;32m      1\u001b[0m \u001b[0mshoes\u001b[0m \u001b[0;34m=\u001b[0m \u001b[0;34m{\u001b[0m\u001b[0;34m'name'\u001b[0m\u001b[0;34m:\u001b[0m \u001b[0;34m'Fancy Shoes'\u001b[0m\u001b[0;34m,\u001b[0m \u001b[0;34m'price'\u001b[0m\u001b[0;34m:\u001b[0m \u001b[0;36m14900\u001b[0m\u001b[0;34m}\u001b[0m\u001b[0;34m\u001b[0m\u001b[0;34m\u001b[0m\u001b[0m\n\u001b[0;32m----> 2\u001b[0;31m \u001b[0mapply_discount\u001b[0m\u001b[0;34m(\u001b[0m\u001b[0mshoes\u001b[0m\u001b[0;34m,\u001b[0m \u001b[0;36m2.5\u001b[0m\u001b[0;34m)\u001b[0m\u001b[0;34m\u001b[0m\u001b[0;34m\u001b[0m\u001b[0m\n\u001b[0m",
      "\u001b[0;32m<ipython-input-1-abe5ace6b590>\u001b[0m in \u001b[0;36mapply_discount\u001b[0;34m(product, discount)\u001b[0m\n\u001b[1;32m      1\u001b[0m \u001b[0;32mdef\u001b[0m \u001b[0mapply_discount\u001b[0m\u001b[0;34m(\u001b[0m\u001b[0mproduct\u001b[0m\u001b[0;34m,\u001b[0m \u001b[0mdiscount\u001b[0m\u001b[0;34m)\u001b[0m\u001b[0;34m:\u001b[0m\u001b[0;34m\u001b[0m\u001b[0;34m\u001b[0m\u001b[0m\n\u001b[1;32m      2\u001b[0m     \u001b[0mp\u001b[0m \u001b[0;34m=\u001b[0m \u001b[0mint\u001b[0m\u001b[0;34m(\u001b[0m\u001b[0mproduct\u001b[0m\u001b[0;34m[\u001b[0m\u001b[0;34m\"price\"\u001b[0m\u001b[0;34m]\u001b[0m \u001b[0;34m*\u001b[0m \u001b[0;34m(\u001b[0m\u001b[0;36m1\u001b[0m \u001b[0;34m-\u001b[0m \u001b[0mdiscount\u001b[0m\u001b[0;34m)\u001b[0m\u001b[0;34m)\u001b[0m\u001b[0;34m\u001b[0m\u001b[0;34m\u001b[0m\u001b[0m\n\u001b[0;32m----> 3\u001b[0;31m     \u001b[0;32massert\u001b[0m \u001b[0;36m0\u001b[0m \u001b[0;34m<=\u001b[0m \u001b[0mp\u001b[0m \u001b[0;34m<=\u001b[0m \u001b[0mproduct\u001b[0m\u001b[0;34m[\u001b[0m\u001b[0;34m\"price\"\u001b[0m\u001b[0;34m]\u001b[0m\u001b[0;34m\u001b[0m\u001b[0;34m\u001b[0m\u001b[0m\n\u001b[0m\u001b[1;32m      4\u001b[0m     \u001b[0;32mreturn\u001b[0m \u001b[0mp\u001b[0m\u001b[0;34m\u001b[0m\u001b[0;34m\u001b[0m\u001b[0m\n",
      "\u001b[0;31mAssertionError\u001b[0m: "
     ]
    }
   ],
   "source": [
    "shoes = {'name': 'Fancy Shoes', 'price': 14900}\n",
    "apply_discount(shoes, 2.5)"
   ]
  },
  {
   "cell_type": "markdown",
   "id": "800d4f70-fa93-4cb8-bb40-14d893ef32ff",
   "metadata": {},
   "source": [
    "### This speeds up debugging efforts considerably, \n",
    "it will make your programs more maintainable in the long-run. And that, my friend, is\n",
    "the power of assertions."
   ]
  },
  {
   "cell_type": "markdown",
   "id": "48b59084-e38a-44d0-aac1-cca3f5cb6eb1",
   "metadata": {},
   "source": [
    "### keep in mind that Python’s assert statement is a debugging aid, not a mechanism for handling run-time errors"
   ]
  },
  {
   "cell_type": "markdown",
   "id": "e6357dfd-9caf-46cf-9903-66af8c6f2273",
   "metadata": {},
   "source": [
    "#### Caveat 1 – Don’t Use Asserts for Data Validation\n"
   ]
  },
  {
   "cell_type": "markdown",
   "id": "36064c04-4097-4f04-9407-b797106b9bf7",
   "metadata": {},
   "source": [
    "#### Caveat 2 – Asserts That Never Fail"
   ]
  },
  {
   "cell_type": "markdown",
   "id": "87c18683-c8fa-42d1-9106-ab6e9ec33441",
   "metadata": {},
   "source": [
    "#### Python’s assertions are a powerful debugging tool that’s frequently underused by Python developers."
   ]
  },
  {
   "cell_type": "markdown",
   "id": "d7882f45-2bd9-4214-a9e3-645595f9d474",
   "metadata": {},
   "source": [
    "1. Python’s assert statement is a debugging aid that tests a condition\n",
    "as an internal self-check in your program.\n",
    "2. Asserts should only be used to help developers identify bugs.\n",
    "They’re not a mechanism for handling run-time errors.\n",
    "3. Asserts can be globally disabled with an interpreter setting."
   ]
  },
  {
   "cell_type": "markdown",
   "id": "8db925fc-e8ba-4b50-be48-325c8271e944",
   "metadata": {},
   "source": [
    "# Complacement Comma Placement"
   ]
  },
  {
   "cell_type": "markdown",
   "id": "9e58a0e0-1317-4eb0-b246-dc57152a35d4",
   "metadata": {},
   "source": [
    "In Python, you can place a comma after every item in a list, dict, or set\n",
    "constant, including the last item."
   ]
  },
  {
   "cell_type": "code",
   "execution_count": 4,
   "id": "c3a8e210-e785-431c-b426-2367e67422e7",
   "metadata": {},
   "outputs": [],
   "source": [
    "names = [\n",
    "    \"Alice\",\n",
    "    \"Bob\",\n",
    "    \"Dilbert\",\n",
    "]"
   ]
  },
  {
   "cell_type": "markdown",
   "id": "6a546d5c-304e-4948-9e13-e141b09d8771",
   "metadata": {},
   "source": [
    "# Context Managers and the with statement"
   ]
  },
  {
   "cell_type": "markdown",
   "id": "d0fd5d70-86ea-4d10-ba91-4a89bbe3dd8e",
   "metadata": {},
   "source": [
    "It helps simplify some common\n",
    "resource management patterns by abstracting their functionality\n",
    "and allowing them to be factored out and reused."
   ]
  },
  {
   "cell_type": "code",
   "execution_count": 5,
   "id": "642acfaa-8b93-4d18-99f9-b81bad378e2f",
   "metadata": {},
   "outputs": [],
   "source": [
    "with open(\"hello.txt\", 'w') as f:\n",
    "    f.write(\"hello world\")"
   ]
  },
  {
   "cell_type": "code",
   "execution_count": 6,
   "id": "cd620c2d-4714-46fc-b086-b40990a62983",
   "metadata": {},
   "outputs": [],
   "source": [
    "f = open('hello.txt', 'w')\n",
    "try:\n",
    "    f.write('hello, world')\n",
    "finally:\n",
    "    f.close()"
   ]
  },
  {
   "cell_type": "code",
   "execution_count": 7,
   "id": "5f48b261-5b50-4ca2-b33e-3e7da6d6b6b1",
   "metadata": {},
   "outputs": [],
   "source": [
    "# This implementation won’t guarantee the file is closed if there’s an exception\n",
    "# during the f.write() call\n",
    "f = open('hello.txt', 'w')\n",
    "f.write('hello, world')\n",
    "f.close()"
   ]
  },
  {
   "cell_type": "markdown",
   "id": "ce450b8e-dfe1-4cd2-be2a-5f00939dd7dc",
   "metadata": {},
   "source": [
    "#### In both cases, using a with statement allows you to abstract away most of the resource handling logic."
   ]
  },
  {
   "cell_type": "markdown",
   "id": "b4c25a68-92ac-41f2-b413-87215d934457",
   "metadata": {},
   "source": [
    "Python calls \\__enter__ when execution enters the context of the\n",
    "with statement and it’s time to acquire the resource. When execution\n",
    "leaves the context again, Python calls \\__exit__ to free up the\n",
    "resource"
   ]
  },
  {
   "cell_type": "code",
   "execution_count": 8,
   "id": "ca200ebd-6b16-40b2-878a-7c22dd385dce",
   "metadata": {},
   "outputs": [],
   "source": [
    "class ManagedFile:\n",
    "    def __init__(self, name):\n",
    "        self.name = name\n",
    "        \n",
    "    def __enter__(self):\n",
    "        self.file = open(self.name, \"w\")\n",
    "        return self.file\n",
    "    \n",
    "    def __exit__(self, exc_type, exc_val, exc_tb):\n",
    "        if self.file:\n",
    "            self.file.close()"
   ]
  },
  {
   "cell_type": "code",
   "execution_count": 9,
   "id": "6a8523d8-cf3e-4765-8a4f-994f96a38d08",
   "metadata": {},
   "outputs": [],
   "source": [
    "with ManagedFile(\"hello.txt\") as f:\n",
    "    f.write(\"hello world\")"
   ]
  },
  {
   "cell_type": "markdown",
   "id": "760f0238-69b4-4df7-80b6-514d8cdd95f8",
   "metadata": {},
   "source": [
    "The contextlib utility module in the standard library provides a few more abstractions built on top of the basic context manager protocol. "
   ]
  },
  {
   "cell_type": "code",
   "execution_count": 11,
   "id": "f8e49e40-656f-47ba-a59f-03744c6f7461",
   "metadata": {},
   "outputs": [],
   "source": [
    "from contextlib import contextmanager\n",
    "\n",
    "@contextmanager\n",
    "def managed_file(name):\n",
    "    try:\n",
    "        f = open(name, \"w\")\n",
    "        yield f\n",
    "    finally:\n",
    "        f.close()\n",
    "        \n",
    "with managed_file(\"hello2.txt\") as f:\n",
    "    f.write(\"bye now\")"
   ]
  },
  {
   "cell_type": "code",
   "execution_count": 12,
   "id": "d0235547-6156-449e-bb69-70cbd0f6601a",
   "metadata": {},
   "outputs": [],
   "source": [
    "class Indenter:\n",
    "    def __init__(self):\n",
    "        self.level = 0\n",
    "        \n",
    "    def __enter__(self):\n",
    "        self.level += 1\n",
    "        return self\n",
    "    \n",
    "    def __exit__(self, exc_type, exc_val, exc_tb):\n",
    "        self.level -= 1\n",
    "        \n",
    "    def print(self, text):\n",
    "        print(\" \"*self.level + text)"
   ]
  },
  {
   "cell_type": "code",
   "execution_count": 13,
   "id": "a8f240a6-9089-4dde-9a08-370def4a4641",
   "metadata": {},
   "outputs": [
    {
     "name": "stdout",
     "output_type": "stream",
     "text": [
      " hello\n",
      "  xxx\n",
      "   ccc\n",
      " zzz\n"
     ]
    }
   ],
   "source": [
    "with Indenter() as indent:\n",
    "    indent.print(\"hello\")\n",
    "    with indent:\n",
    "        indent.print(\"xxx\")\n",
    "        with indent:\n",
    "            indent.print(\"ccc\")\n",
    "    indent.print(\"zzz\")"
   ]
  },
  {
   "cell_type": "markdown",
   "id": "5e6d1078-cec9-4bf3-83b2-0cf0753e1d24",
   "metadata": {},
   "source": [
    "- The with statement simplifies exception handling by encapsulating\n",
    "standard uses of try/finally statements in so-called\n",
    "context managers.\n",
    "- Most commonly it is used to manage the safe acquisition and\n",
    "release of system resources. Resources are acquired by the\n",
    "with statement and released automatically when execution\n",
    "leaves the with context.\n",
    "- Using with effectively can help you avoid resource leaks and\n",
    "make your code easier to read."
   ]
  },
  {
   "cell_type": "markdown",
   "id": "45fa8087-9d61-4780-b0e8-643e9283a860",
   "metadata": {},
   "source": [
    "# Underscores, Dunders and More"
   ]
  },
  {
   "cell_type": "markdown",
   "id": "f99afee1-4b5b-461d-b0d4-5913a29db26a",
   "metadata": {},
   "source": [
    "### 1. Single Leading Underscore: “_var\n"
   ]
  },
  {
   "cell_type": "markdown",
   "id": "e3915220-1af6-49b8-a9c3-07ee64591839",
   "metadata": {},
   "source": [
    "the single underscore prefix has a meaning by convention only。 **internal use**"
   ]
  },
  {
   "cell_type": "code",
   "execution_count": 15,
   "id": "854b491d-d001-4ce4-9962-8288135b5555",
   "metadata": {},
   "outputs": [],
   "source": [
    "def externel_func():\n",
    "    return 23\n",
    "\n",
    "def _internel_func():\n",
    "    return 42"
   ]
  },
  {
   "cell_type": "markdown",
   "id": "a40d9cfd-177f-4a93-937b-88e9d6ec66db",
   "metadata": {},
   "source": [
    "**OK Single underscores are a Python naming convention that indicates a\n",
    "name is meant for internal use. It is generally not enforced by the\n",
    "Python interpreter and is only meant as a hint to the programmer.**"
   ]
  },
  {
   "cell_type": "markdown",
   "id": "29f8e2d6-75b8-4de0-8ff9-7bdbb674ab1d",
   "metadata": {},
   "source": [
    "### 2. Single Trailing Underscore: \"var_\""
   ]
  },
  {
   "cell_type": "markdown",
   "id": "fa1337c8-8a95-4aca-8dd9-92be29629358",
   "metadata": {},
   "source": [
    "**In summary, a single trailing underscore (postfix) is used by convention\n",
    "to avoid naming conflicts with Python keywords. This convention\n",
    "is defined and explained in PEP 8.**"
   ]
  },
  {
   "cell_type": "code",
   "execution_count": 16,
   "id": "dc0d82d5-2025-4b2f-8cb0-00cd2b0585e9",
   "metadata": {},
   "outputs": [
    {
     "ename": "SyntaxError",
     "evalue": "invalid syntax (<ipython-input-16-88a174f47223>, line 1)",
     "output_type": "error",
     "traceback": [
      "\u001b[0;36m  File \u001b[0;32m\"<ipython-input-16-88a174f47223>\"\u001b[0;36m, line \u001b[0;32m1\u001b[0m\n\u001b[0;31m    def make_object(name, class):\u001b[0m\n\u001b[0m                              ^\u001b[0m\n\u001b[0;31mSyntaxError\u001b[0m\u001b[0;31m:\u001b[0m invalid syntax\n"
     ]
    }
   ],
   "source": [
    "def make_object(name, class):\n",
    "    pass"
   ]
  },
  {
   "cell_type": "code",
   "execution_count": 17,
   "id": "37a53696-bfba-4a18-a581-518affc5009a",
   "metadata": {},
   "outputs": [],
   "source": [
    "def make_object(name, class_):\n",
    "    pass"
   ]
  },
  {
   "cell_type": "markdown",
   "id": "5ed10f7a-e9b3-4176-acbc-ed74bea37586",
   "metadata": {},
   "source": [
    "### 3.Double Leading Underscore: \"__var\""
   ]
  },
  {
   "cell_type": "markdown",
   "id": "07682013-68ec-477f-b9bc-4ced4d96c452",
   "metadata": {},
   "source": [
    "A double underscore prefix causes the Python interpreter to rewrite\n",
    "the attribute name in order to avoid naming conflicts in subclasses."
   ]
  },
  {
   "cell_type": "code",
   "execution_count": 18,
   "id": "03285651-e7e2-4333-ad8a-f4d172d61271",
   "metadata": {},
   "outputs": [],
   "source": [
    "class Test:\n",
    "    def __init__(self):\n",
    "        self.foo = 11\n",
    "        self._bar = 23\n",
    "        self.__baz = 23"
   ]
  },
  {
   "cell_type": "code",
   "execution_count": 19,
   "id": "366b5873-a338-4948-90d3-df517806ebe6",
   "metadata": {},
   "outputs": [
    {
     "data": {
      "text/plain": [
       "['_Test__baz',\n",
       " '__class__',\n",
       " '__delattr__',\n",
       " '__dict__',\n",
       " '__dir__',\n",
       " '__doc__',\n",
       " '__eq__',\n",
       " '__format__',\n",
       " '__ge__',\n",
       " '__getattribute__',\n",
       " '__gt__',\n",
       " '__hash__',\n",
       " '__init__',\n",
       " '__init_subclass__',\n",
       " '__le__',\n",
       " '__lt__',\n",
       " '__module__',\n",
       " '__ne__',\n",
       " '__new__',\n",
       " '__reduce__',\n",
       " '__reduce_ex__',\n",
       " '__repr__',\n",
       " '__setattr__',\n",
       " '__sizeof__',\n",
       " '__str__',\n",
       " '__subclasshook__',\n",
       " '__weakref__',\n",
       " '_bar',\n",
       " 'foo']"
      ]
     },
     "execution_count": 19,
     "metadata": {},
     "output_type": "execute_result"
    }
   ],
   "source": [
    "t = Test()\n",
    "dir(t)"
   ]
  },
  {
   "cell_type": "markdown",
   "id": "d84d7f69-04f5-453d-8407-8f2fff7e25e3",
   "metadata": {},
   "source": [
    "_Test__baz, protect the variable from getting overridden in\n",
    "subclasses."
   ]
  },
  {
   "cell_type": "code",
   "execution_count": 20,
   "id": "1ae9887c-8d2e-4c3b-887a-8d8e8ec6f57d",
   "metadata": {},
   "outputs": [
    {
     "data": {
      "text/plain": [
       "'overridden'"
      ]
     },
     "execution_count": 20,
     "metadata": {},
     "output_type": "execute_result"
    }
   ],
   "source": [
    "class ExtendedTest(Test):\n",
    "    def __init__(self):\n",
    "        super().__init__()\n",
    "        self.foo = \"overridden\"\n",
    "        self._bar = \"overridden\"\n",
    "        self.__baz = \"overridden\"\n",
    "        \n",
    "t2 = ExtendedTest()\n",
    "t2.foo"
   ]
  },
  {
   "cell_type": "code",
   "execution_count": 21,
   "id": "a9a5dc3f-421b-420e-afbb-21adea6ab870",
   "metadata": {},
   "outputs": [
    {
     "data": {
      "text/plain": [
       "'overridden'"
      ]
     },
     "execution_count": 21,
     "metadata": {},
     "output_type": "execute_result"
    }
   ],
   "source": [
    "t2._bar"
   ]
  },
  {
   "cell_type": "code",
   "execution_count": 22,
   "id": "8626e29a-7c38-4ed1-b008-d491e5c1b798",
   "metadata": {},
   "outputs": [
    {
     "ename": "AttributeError",
     "evalue": "'ExtendedTest' object has no attribute '__baz'",
     "output_type": "error",
     "traceback": [
      "\u001b[0;31m---------------------------------------------------------------------------\u001b[0m",
      "\u001b[0;31mAttributeError\u001b[0m                            Traceback (most recent call last)",
      "\u001b[0;32m<ipython-input-22-ce8e845954f0>\u001b[0m in \u001b[0;36m<module>\u001b[0;34m\u001b[0m\n\u001b[0;32m----> 1\u001b[0;31m \u001b[0mt2\u001b[0m\u001b[0;34m.\u001b[0m\u001b[0m__baz\u001b[0m\u001b[0;34m\u001b[0m\u001b[0;34m\u001b[0m\u001b[0m\n\u001b[0m",
      "\u001b[0;31mAttributeError\u001b[0m: 'ExtendedTest' object has no attribute '__baz'"
     ]
    }
   ],
   "source": [
    "t2.__baz"
   ]
  },
  {
   "cell_type": "code",
   "execution_count": 23,
   "id": "8d62cfae-c51f-4cdc-bc6b-63adc1bb7d4d",
   "metadata": {},
   "outputs": [
    {
     "data": {
      "text/plain": [
       "['_ExtendedTest__baz',\n",
       " '_Test__baz',\n",
       " '__class__',\n",
       " '__delattr__',\n",
       " '__dict__',\n",
       " '__dir__',\n",
       " '__doc__',\n",
       " '__eq__',\n",
       " '__format__',\n",
       " '__ge__',\n",
       " '__getattribute__',\n",
       " '__gt__',\n",
       " '__hash__',\n",
       " '__init__',\n",
       " '__init_subclass__',\n",
       " '__le__',\n",
       " '__lt__',\n",
       " '__module__',\n",
       " '__ne__',\n",
       " '__new__',\n",
       " '__reduce__',\n",
       " '__reduce_ex__',\n",
       " '__repr__',\n",
       " '__setattr__',\n",
       " '__sizeof__',\n",
       " '__str__',\n",
       " '__subclasshook__',\n",
       " '__weakref__',\n",
       " '_bar',\n",
       " 'foo']"
      ]
     },
     "execution_count": 23,
     "metadata": {},
     "output_type": "execute_result"
    }
   ],
   "source": [
    "dir(t2)"
   ]
  },
  {
   "cell_type": "code",
   "execution_count": 24,
   "id": "f52a08cf-5a3b-433e-9143-466eb6ae3122",
   "metadata": {},
   "outputs": [
    {
     "data": {
      "text/plain": [
       "'overridden'"
      ]
     },
     "execution_count": 24,
     "metadata": {},
     "output_type": "execute_result"
    }
   ],
   "source": [
    "t2._ExtendedTest__baz"
   ]
  },
  {
   "cell_type": "code",
   "execution_count": 25,
   "id": "099f3a8e-b62a-49f0-8682-3038b74bf563",
   "metadata": {},
   "outputs": [
    {
     "data": {
      "text/plain": [
       "23"
      ]
     },
     "execution_count": 25,
     "metadata": {},
     "output_type": "execute_result"
    }
   ],
   "source": [
    "t2._Test__baz"
   ]
  },
  {
   "cell_type": "code",
   "execution_count": 26,
   "id": "0222d010-b624-4744-8384-4b8d12b65caf",
   "metadata": {},
   "outputs": [
    {
     "data": {
      "text/plain": [
       "'hello'"
      ]
     },
     "execution_count": 26,
     "metadata": {},
     "output_type": "execute_result"
    }
   ],
   "source": [
    "# Double underscore name mangling is fully transparent to the programmer\n",
    "\n",
    "class ManlingTest:\n",
    "    def __init__(self):\n",
    "        self.__mangled = \"hello\"\n",
    "        \n",
    "    def get_mangled(self):\n",
    "        return self.__mangled\n",
    "    \n",
    "ManlingTest().get_mangled()"
   ]
  },
  {
   "cell_type": "code",
   "execution_count": 27,
   "id": "f7ab58ec-3b71-4537-bbe8-18caed9ea5a5",
   "metadata": {},
   "outputs": [
    {
     "ename": "AttributeError",
     "evalue": "'ManlingTest' object has no attribute '__mangled'",
     "output_type": "error",
     "traceback": [
      "\u001b[0;31m---------------------------------------------------------------------------\u001b[0m",
      "\u001b[0;31mAttributeError\u001b[0m                            Traceback (most recent call last)",
      "\u001b[0;32m<ipython-input-27-345d1e845860>\u001b[0m in \u001b[0;36m<module>\u001b[0;34m\u001b[0m\n\u001b[0;32m----> 1\u001b[0;31m \u001b[0mManlingTest\u001b[0m\u001b[0;34m(\u001b[0m\u001b[0;34m)\u001b[0m\u001b[0;34m.\u001b[0m\u001b[0m__mangled\u001b[0m\u001b[0;34m\u001b[0m\u001b[0;34m\u001b[0m\u001b[0m\n\u001b[0m",
      "\u001b[0;31mAttributeError\u001b[0m: 'ManlingTest' object has no attribute '__mangled'"
     ]
    }
   ],
   "source": [
    "ManlingTest().__mangled"
   ]
  },
  {
   "cell_type": "code",
   "execution_count": 31,
   "id": "6f78ae19-b518-4e05-b1bc-42e978ed454b",
   "metadata": {},
   "outputs": [
    {
     "ename": "AttributeError",
     "evalue": "'MangledMethod' object has no attribute '__method'",
     "output_type": "error",
     "traceback": [
      "\u001b[0;31m---------------------------------------------------------------------------\u001b[0m",
      "\u001b[0;31mAttributeError\u001b[0m                            Traceback (most recent call last)",
      "\u001b[0;32m<ipython-input-31-e1d55755ca29>\u001b[0m in \u001b[0;36m<module>\u001b[0;34m\u001b[0m\n\u001b[1;32m      7\u001b[0m         \u001b[0;32mreturn\u001b[0m \u001b[0mself\u001b[0m\u001b[0;34m.\u001b[0m\u001b[0m__method\u001b[0m\u001b[0;34m(\u001b[0m\u001b[0;34m)\u001b[0m\u001b[0;34m\u001b[0m\u001b[0;34m\u001b[0m\u001b[0m\n\u001b[1;32m      8\u001b[0m \u001b[0;34m\u001b[0m\u001b[0m\n\u001b[0;32m----> 9\u001b[0;31m \u001b[0mMangledMethod\u001b[0m\u001b[0;34m(\u001b[0m\u001b[0;34m)\u001b[0m\u001b[0;34m.\u001b[0m\u001b[0m__method\u001b[0m\u001b[0;34m(\u001b[0m\u001b[0;34m)\u001b[0m\u001b[0;34m\u001b[0m\u001b[0;34m\u001b[0m\u001b[0m\n\u001b[0m",
      "\u001b[0;31mAttributeError\u001b[0m: 'MangledMethod' object has no attribute '__method'"
     ]
    }
   ],
   "source": [
    "# name mangling also apply to method names\n",
    "class MangledMethod:\n",
    "    def __method(self):\n",
    "        return 42\n",
    "    \n",
    "    def call_it(self):\n",
    "        return self.__method()\n",
    "\n",
    "MangledMethod().__method()"
   ]
  },
  {
   "cell_type": "code",
   "execution_count": 33,
   "id": "5c13c123-0d85-42f0-a09c-90c61c9289f7",
   "metadata": {},
   "outputs": [
    {
     "data": {
      "text/plain": [
       "42"
      ]
     },
     "execution_count": 33,
     "metadata": {},
     "output_type": "execute_result"
    }
   ],
   "source": [
    "MangledMethod().call_it()"
   ]
  },
  {
   "cell_type": "code",
   "execution_count": 34,
   "id": "0344f20e-98c5-482a-bbc3-554f5cb28388",
   "metadata": {},
   "outputs": [],
   "source": [
    "# another example\n",
    "_MangledGlobal__mangled = 23\n",
    "\n",
    "class MangledGlobal:\n",
    "    def test(self):\n",
    "        return __mangled"
   ]
  },
  {
   "cell_type": "code",
   "execution_count": 36,
   "id": "31072db8-b675-4854-9533-66d411c174f1",
   "metadata": {},
   "outputs": [
    {
     "data": {
      "text/plain": [
       "23"
      ]
     },
     "execution_count": 36,
     "metadata": {},
     "output_type": "execute_result"
    }
   ],
   "source": [
    "MangledGlobal().test()"
   ]
  },
  {
   "cell_type": "markdown",
   "id": "1e8f7c8d-c986-444b-80d9-295c88628ef5",
   "metadata": {},
   "source": [
    "**The Python interpreter automatically expanded the name __mangled\n",
    "to _MangledGlobal__mangled because it begins with two underscore\n",
    "characters**\n"
   ]
  },
  {
   "cell_type": "markdown",
   "id": "77e25087-7aea-4b2d-9c9f-2553b4d9d458",
   "metadata": {},
   "source": [
    "### 4. Double Leading and Trailing Underscore:"
   ]
  },
  {
   "cell_type": "markdown",
   "id": "e366b8cf-8eaa-4c00-837c-e216bb1ccbf5",
   "metadata": {},
   "source": [
    "Variables surrounded by a double\n",
    "underscore prefix and postfix are left unscathed by the Python interpreter:"
   ]
  },
  {
   "cell_type": "code",
   "execution_count": 37,
   "id": "56fb3a15-d44d-417d-b827-fee19cac7427",
   "metadata": {},
   "outputs": [
    {
     "data": {
      "text/plain": [
       "42"
      ]
     },
     "execution_count": 37,
     "metadata": {},
     "output_type": "execute_result"
    }
   ],
   "source": [
    "class PrefixPostfixTest:\n",
    "    def __init__(self):\n",
    "        self.__bam__ = 42\n",
    "        \n",
    "PrefixPostfixTest().__bam__"
   ]
  },
  {
   "cell_type": "markdown",
   "id": "e5de8dd1-ad57-4c4c-844f-14edc00e16aa",
   "metadata": {},
   "source": [
    "**names that have both leading and trailing double underscores\n",
    "are reserved for special use in the language. This rule covers\n",
    "things like \\_\\_init__ for object constructors, or \\_\\_call__ to make objects\n",
    "callable**"
   ]
  },
  {
   "cell_type": "markdown",
   "id": "ccc459a9-7b5e-4fc9-a288-5671a1172337",
   "metadata": {},
   "source": [
    "However, as far as naming conventions go, it’s best to stay away from\n",
    "using names that start and end with double underscores in your own\n",
    "programs to avoid collisions with future changes to the Python language."
   ]
  },
  {
   "cell_type": "markdown",
   "id": "9239c1aa-1ca0-408a-8791-87d0042b7ed1",
   "metadata": {},
   "source": [
    "### 5. Single Underscore: \"_\""
   ]
  },
  {
   "cell_type": "markdown",
   "id": "e01b1085-c00c-43d1-b727-ef5fdc7de3b2",
   "metadata": {},
   "source": [
    "Per convention, a single stand-alone underscore is sometimes used as\n",
    "a name to indicate that a variable is temporary or insignificant."
   ]
  },
  {
   "cell_type": "code",
   "execution_count": 38,
   "id": "565644f8-ae3e-43dc-9ead-d911e9011845",
   "metadata": {},
   "outputs": [
    {
     "name": "stdout",
     "output_type": "stream",
     "text": [
      "hello world\n",
      "hello world\n",
      "hello world\n",
      "hello world\n",
      "hello world\n"
     ]
    }
   ],
   "source": [
    "for _ in range(5):\n",
    "    print(\"hello world\")"
   ]
  },
  {
   "cell_type": "markdown",
   "id": "e5a08aa8-33a2-4d8e-a5a0-3ebc5e00e430",
   "metadata": {},
   "source": [
    "You can also use single underscores in unpacking expressions as a\n",
    "“don’t care” variable to ignore particular values."
   ]
  },
  {
   "cell_type": "code",
   "execution_count": 42,
   "id": "b66db318-e742-471f-a4ef-9395065418a8",
   "metadata": {},
   "outputs": [],
   "source": [
    "car = ('red', 'auto', 12, 3812.4)\n",
    "color, _, _, mileage = car"
   ]
  },
  {
   "cell_type": "code",
   "execution_count": 43,
   "id": "8dd88fb3-c33e-46ba-9d45-243bc7fba10c",
   "metadata": {},
   "outputs": [
    {
     "data": {
      "text/plain": [
       "('red', 3812.4)"
      ]
     },
     "execution_count": 43,
     "metadata": {},
     "output_type": "execute_result"
    }
   ],
   "source": [
    "color, mileage"
   ]
  },
  {
   "cell_type": "markdown",
   "id": "f7336315-34db-47eb-aa7a-131523fb8f1b",
   "metadata": {},
   "source": [
    "# A shocking Truth About String Formatting"
   ]
  },
  {
   "cell_type": "code",
   "execution_count": 44,
   "id": "cf21b95b-fb4d-44c2-a490-138e530e0fda",
   "metadata": {},
   "outputs": [
    {
     "data": {
      "text/plain": [
       "'hey, bob'"
      ]
     },
     "execution_count": 44,
     "metadata": {},
     "output_type": "execute_result"
    }
   ],
   "source": [
    "# Template strings\n",
    "from string import Template\n",
    "\n",
    "t = Template(\"hey, $name\")\n",
    "t.substitute(name=\"bob\")"
   ]
  },
  {
   "cell_type": "markdown",
   "id": "f0ca24ee-5283-498c-84e5-c1532f89ace3",
   "metadata": {},
   "source": [
    "**if your format strings are user-supplied, use Template\n",
    "Strings to avoid security issues. Otherwise, use Literal\n",
    "String Interpolation if you’re on Python 3.6+, and “New\n",
    "Style” String Formatting if you’re not.**"
   ]
  },
  {
   "cell_type": "markdown",
   "id": "a0fe7d60-3839-47c1-ad1e-d5d43c182776",
   "metadata": {},
   "source": [
    "# The zon of Python Easter Egg"
   ]
  },
  {
   "cell_type": "code",
   "execution_count": 45,
   "id": "9eefaece-a06a-4c0d-96a8-444f7794fc5d",
   "metadata": {},
   "outputs": [
    {
     "name": "stdout",
     "output_type": "stream",
     "text": [
      "The Zen of Python, by Tim Peters\n",
      "\n",
      "Beautiful is better than ugly.\n",
      "Explicit is better than implicit.\n",
      "Simple is better than complex.\n",
      "Complex is better than complicated.\n",
      "Flat is better than nested.\n",
      "Sparse is better than dense.\n",
      "Readability counts.\n",
      "Special cases aren't special enough to break the rules.\n",
      "Although practicality beats purity.\n",
      "Errors should never pass silently.\n",
      "Unless explicitly silenced.\n",
      "In the face of ambiguity, refuse the temptation to guess.\n",
      "There should be one-- and preferably only one --obvious way to do it.\n",
      "Although that way may not be obvious at first unless you're Dutch.\n",
      "Now is better than never.\n",
      "Although never is often better than *right* now.\n",
      "If the implementation is hard to explain, it's a bad idea.\n",
      "If the implementation is easy to explain, it may be a good idea.\n",
      "Namespaces are one honking great idea -- let's do more of those!\n"
     ]
    }
   ],
   "source": [
    "import this"
   ]
  },
  {
   "cell_type": "code",
   "execution_count": null,
   "id": "d048db73-7b74-474c-ace0-3b5767a44a68",
   "metadata": {},
   "outputs": [],
   "source": []
  }
 ],
 "metadata": {
  "kernelspec": {
   "display_name": "Python 3",
   "language": "python",
   "name": "python3"
  },
  "language_info": {
   "codemirror_mode": {
    "name": "ipython",
    "version": 3
   },
   "file_extension": ".py",
   "mimetype": "text/x-python",
   "name": "python",
   "nbconvert_exporter": "python",
   "pygments_lexer": "ipython3",
   "version": "3.7.4"
  },
  "toc": {
   "base_numbering": 1,
   "nav_menu": {},
   "number_sections": true,
   "sideBar": true,
   "skip_h1_title": false,
   "title_cell": "Table of Contents",
   "title_sidebar": "Contents",
   "toc_cell": false,
   "toc_position": {
    "height": "calc(100% - 180px)",
    "left": "10px",
    "top": "150px",
    "width": "276.4px"
   },
   "toc_section_display": true,
   "toc_window_display": true
  }
 },
 "nbformat": 4,
 "nbformat_minor": 5
}
