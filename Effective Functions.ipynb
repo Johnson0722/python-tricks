{
 "cells": [
  {
   "cell_type": "markdown",
   "id": "77eca73c-fc73-4fbc-a709-ed5b057188ca",
   "metadata": {},
   "source": [
    "# Python’s Functions Are First-Class"
   ]
  },
  {
   "cell_type": "code",
   "execution_count": 1,
   "id": "38041f58-5d21-4cac-a7de-694fa17b04f2",
   "metadata": {},
   "outputs": [
    {
     "data": {
      "text/plain": [
       "'HELLO!'"
      ]
     },
     "execution_count": 1,
     "metadata": {},
     "output_type": "execute_result"
    }
   ],
   "source": [
    "def yell(text):\n",
    "    return text.upper() + '!'\n",
    "\n",
    "yell(\"hello\")"
   ]
  },
  {
   "cell_type": "code",
   "execution_count": 2,
   "id": "44587a14-3192-44db-a748-46138c91a4d3",
   "metadata": {},
   "outputs": [],
   "source": [
    "bark = yell"
   ]
  },
  {
   "cell_type": "code",
   "execution_count": 3,
   "id": "179e96fc-9199-47cc-bdfa-4620ec7db3b4",
   "metadata": {},
   "outputs": [
    {
     "data": {
      "text/plain": [
       "'WOOF!'"
      ]
     },
     "execution_count": 3,
     "metadata": {},
     "output_type": "execute_result"
    }
   ],
   "source": [
    "bark(\"woof\")"
   ]
  },
  {
   "cell_type": "code",
   "execution_count": 4,
   "id": "08ab6e93-9743-4399-86cd-eb7040952a89",
   "metadata": {},
   "outputs": [],
   "source": [
    "del yell"
   ]
  },
  {
   "cell_type": "code",
   "execution_count": 5,
   "id": "313134c1-22d2-435f-a952-3e74326cd3b1",
   "metadata": {},
   "outputs": [
    {
     "ename": "NameError",
     "evalue": "name 'yell' is not defined",
     "output_type": "error",
     "traceback": [
      "\u001b[0;31m---------------------------------------------------------------------------\u001b[0m",
      "\u001b[0;31mNameError\u001b[0m                                 Traceback (most recent call last)",
      "\u001b[0;32m<ipython-input-5-383710e31991>\u001b[0m in \u001b[0;36m<module>\u001b[0;34m\u001b[0m\n\u001b[0;32m----> 1\u001b[0;31m \u001b[0myell\u001b[0m\u001b[0;34m(\u001b[0m\u001b[0;34m\"hello\"\u001b[0m\u001b[0;34m)\u001b[0m\u001b[0;34m\u001b[0m\u001b[0;34m\u001b[0m\u001b[0m\n\u001b[0m",
      "\u001b[0;31mNameError\u001b[0m: name 'yell' is not defined"
     ]
    }
   ],
   "source": [
    "yell(\"hello\")"
   ]
  },
  {
   "cell_type": "code",
   "execution_count": 6,
   "id": "66bffabd-7831-400b-809c-5e8da3d3839b",
   "metadata": {},
   "outputs": [
    {
     "data": {
      "text/plain": [
       "'HEY!'"
      ]
     },
     "execution_count": 6,
     "metadata": {},
     "output_type": "execute_result"
    }
   ],
   "source": [
    "bark(\"hey\")"
   ]
  },
  {
   "cell_type": "code",
   "execution_count": 8,
   "id": "201b8ee2-37ae-45a9-bea1-ac9002702820",
   "metadata": {},
   "outputs": [
    {
     "data": {
      "text/plain": [
       "'yell'"
      ]
     },
     "execution_count": 8,
     "metadata": {},
     "output_type": "execute_result"
    }
   ],
   "source": [
    "bark.__name__"
   ]
  },
  {
   "cell_type": "markdown",
   "id": "f3095228-82cc-4b91-b5f5-49bf045e6126",
   "metadata": {},
   "source": [
    "# Lambdas Are Single-Expression Functions"
   ]
  },
  {
   "cell_type": "code",
   "execution_count": 12,
   "id": "32ff4167-3a96-488e-9e09-993aff149f7c",
   "metadata": {},
   "outputs": [
    {
     "data": {
      "text/plain": [
       "8"
      ]
     },
     "execution_count": 12,
     "metadata": {},
     "output_type": "execute_result"
    }
   ],
   "source": [
    "add = lambda x, y: x + y\n",
    "add(5, 3)"
   ]
  },
  {
   "cell_type": "code",
   "execution_count": 13,
   "id": "e7ae528b-5456-4f75-9c6c-48d8d39bc3d6",
   "metadata": {},
   "outputs": [
    {
     "data": {
      "text/plain": [
       "8"
      ]
     },
     "execution_count": 13,
     "metadata": {},
     "output_type": "execute_result"
    }
   ],
   "source": [
    "def add(x, y):\n",
    "    return x + y\n",
    "add(5,3)"
   ]
  },
  {
   "cell_type": "markdown",
   "id": "aae67e6c-abe9-424d-848e-d74fad15d1a6",
   "metadata": {},
   "source": [
    "**The\n",
    "key difference here is that I didn’t have to bind the function object to\n",
    "a name before I used it.**"
   ]
  },
  {
   "cell_type": "code",
   "execution_count": 14,
   "id": "0c520217-a19f-4ed1-ad8c-93d221699522",
   "metadata": {},
   "outputs": [
    {
     "data": {
      "text/plain": [
       "8"
      ]
     },
     "execution_count": 14,
     "metadata": {},
     "output_type": "execute_result"
    }
   ],
   "source": [
    "(lambda x, y: x + y)(5, 3)"
   ]
  },
  {
   "cell_type": "code",
   "execution_count": 15,
   "id": "db73592b-4978-4f32-9386-d4b1b9d6c6ea",
   "metadata": {},
   "outputs": [],
   "source": [
    "# lambdas also work as lexical closures\n",
    "def make_adder(n):\n",
    "    return lambda x: x + n\n",
    "\n",
    "plus_3 = make_adder(3)\n",
    "plus_5 = make_adder(5)"
   ]
  },
  {
   "cell_type": "code",
   "execution_count": 16,
   "id": "91e751cb-0549-4dae-85cb-027ee2abcfd1",
   "metadata": {},
   "outputs": [
    {
     "data": {
      "text/plain": [
       "7"
      ]
     },
     "execution_count": 16,
     "metadata": {},
     "output_type": "execute_result"
    }
   ],
   "source": [
    "plus_3(4)"
   ]
  },
  {
   "cell_type": "code",
   "execution_count": 18,
   "id": "5ed9679c-6f4b-42bf-a223-82aa090af8cd",
   "metadata": {},
   "outputs": [
    {
     "data": {
      "text/plain": [
       "10"
      ]
     },
     "execution_count": 18,
     "metadata": {},
     "output_type": "execute_result"
    }
   ],
   "source": [
    "plus_5(5)"
   ]
  },
  {
   "cell_type": "markdown",
   "id": "96f0beb0-1847-4a93-a2ec-b20e66245c4d",
   "metadata": {},
   "source": [
    "**Lambda functions should be used sparingly and with extraordinary care.**"
   ]
  },
  {
   "cell_type": "markdown",
   "id": "e36d0496-3bc7-4b75-b3f0-2015ebf99ac8",
   "metadata": {},
   "source": [
    "**If you find yourself doing anything remotely complex with lambda\n",
    "expressions, consider defining a standalone function with a proper\n",
    "name instead.**"
   ]
  },
  {
   "cell_type": "markdown",
   "id": "3504a2fd-6ae1-43da-9e34-298f95fc5a55",
   "metadata": {},
   "source": [
    "# The Power of Decorators"
   ]
  },
  {
   "cell_type": "markdown",
   "id": "289b8ce4-39ff-48a1-9bfe-11949794fe80",
   "metadata": {},
   "source": [
    "At their core, Python’s decorators allow you to extend and modify the\n",
    "behavior of a callable (functions, methods, and classes) without permanently\n",
    "modifying the callable itself.\n"
   ]
  },
  {
   "cell_type": "markdown",
   "id": "fcc67cb1-f799-45a8-8325-600781596194",
   "metadata": {},
   "source": [
    "functionality:\n",
    "    1. logging \n",
    "    2. enforcing access control and authentication \n",
    "    3. instrumentation  and timing functions \n",
    "    4. rate-limiting \n",
    "    5. caching and more "
   ]
  },
  {
   "cell_type": "code",
   "execution_count": 19,
   "id": "1499ca68-cec2-4584-8929-0f3c78938fc9",
   "metadata": {},
   "outputs": [],
   "source": [
    "def proxy(func):\n",
    "    def wrapper(*args, **kwargs):\n",
    "        return func(*args, **kwargs)\n",
    "    return wrapper"
   ]
  },
  {
   "cell_type": "markdown",
   "id": "2ff4998e-448e-45a6-844c-35b438245c2a",
   "metadata": {},
   "source": [
    "# Fun With *args and **kwargs"
   ]
  },
  {
   "cell_type": "code",
   "execution_count": 22,
   "id": "31d9dfb0-7671-4ab7-81d9-d980c632b45f",
   "metadata": {},
   "outputs": [],
   "source": [
    "def foo(required, *args, **kwargs):\n",
    "    print(required)\n",
    "    if args:\n",
    "        print(args)\n",
    "    if kwargs:\n",
    "        print(kwargs)"
   ]
  },
  {
   "cell_type": "markdown",
   "id": "19f77235-bf16-476a-84e6-d8045c80c0a6",
   "metadata": {},
   "source": [
    "- If we call the function with additional arguments, args will collect\n",
    "extra positional arguments as a tuple because the parameter name\n",
    "has a * prefix.\n",
    "- Likewise, kwargs will collect extra keyword arguments as a dictionary\n",
    "because the parameter name has a ** prefix."
   ]
  },
  {
   "cell_type": "code",
   "execution_count": 23,
   "id": "2519c560-c0f5-4059-bb11-e9ce722f676d",
   "metadata": {},
   "outputs": [
    {
     "name": "stdout",
     "output_type": "stream",
     "text": [
      "hello\n"
     ]
    }
   ],
   "source": [
    "foo(\"hello\")"
   ]
  },
  {
   "cell_type": "code",
   "execution_count": 24,
   "id": "00ce10ee-4ae4-4fb6-b5b5-895e0fa40509",
   "metadata": {},
   "outputs": [
    {
     "name": "stdout",
     "output_type": "stream",
     "text": [
      "hello\n",
      "(1, 2, 3)\n"
     ]
    }
   ],
   "source": [
    "foo(\"hello\", 1,2,3)"
   ]
  },
  {
   "cell_type": "code",
   "execution_count": 25,
   "id": "2776b29c-d51c-41af-88cc-841c342fc738",
   "metadata": {},
   "outputs": [
    {
     "name": "stdout",
     "output_type": "stream",
     "text": [
      "hello\n",
      "(1, 2, 3)\n",
      "{'key1': 'v1', 'key2': 999}\n"
     ]
    }
   ],
   "source": [
    "foo(\"hello\", 1,2,3, key1='v1', key2=999)"
   ]
  },
  {
   "cell_type": "code",
   "execution_count": 30,
   "id": "0be7fccc-c7b0-4371-871f-746a7e1c1b39",
   "metadata": {},
   "outputs": [],
   "source": [
    "import functools\n",
    "def trace(f):\n",
    "    @functools.wraps(f)\n",
    "    def wrapper(*args, **kwargs):\n",
    "        print(f, args, kwargs)\n",
    "        result = f(*args, **kwargs)\n",
    "        print(result)\n",
    "    return wrapper"
   ]
  },
  {
   "cell_type": "code",
   "execution_count": 31,
   "id": "5350b771-c506-4785-9aa4-a80532a5b944",
   "metadata": {},
   "outputs": [],
   "source": [
    "@trace\n",
    "def greet(greeting, name):\n",
    "    return f\"{greeting}, {name}\""
   ]
  },
  {
   "cell_type": "code",
   "execution_count": 32,
   "id": "45807e9e-fa48-4735-b3c6-6b2c4bd27c6f",
   "metadata": {},
   "outputs": [
    {
     "name": "stdout",
     "output_type": "stream",
     "text": [
      "<function greet at 0x11403e7a0> ('hello', 'bob') {}\n",
      "hello, bob\n"
     ]
    }
   ],
   "source": [
    "greet(\"hello\", \"bob\")"
   ]
  },
  {
   "cell_type": "markdown",
   "id": "f31e80ab-0fea-4d22-95a4-5ad08d3a50fa",
   "metadata": {},
   "source": [
    "Takeaways\n",
    "- *args and **kwargs let you write functions with a variable\n",
    "number of arguments in Python.\n",
    "- *args collects extra positional arguments as a tuple. **kwargs\n",
    "collects the extra keyword arguments as a dictionary.\n",
    "- The actual syntax is * and **. Calling them args and kwargs is\n",
    "just a convention (and one you should stick to)."
   ]
  },
  {
   "cell_type": "markdown",
   "id": "7a8894a1-1ff0-4d72-8578-c7d0fe2969db",
   "metadata": {},
   "source": [
    "# Function Argument Unpacking"
   ]
  },
  {
   "cell_type": "markdown",
   "id": "9c2961bd-2c82-4c5c-bde2-f23364813823",
   "metadata": {},
   "source": [
    "Putting a * before an iterable in a function call will unpack it and pass\n",
    "its elements as separate positional arguments to the called function."
   ]
  },
  {
   "cell_type": "code",
   "execution_count": 33,
   "id": "37d92586-27e2-4b1f-a7c9-c5bb010a3b8d",
   "metadata": {},
   "outputs": [],
   "source": [
    "def print_vector(x, y, z):\n",
    "    print(f\"<{x}, {y}, {z}>\")"
   ]
  },
  {
   "cell_type": "code",
   "execution_count": 34,
   "id": "a02e04f8-d9ce-43ec-8f39-a1a5c3b78380",
   "metadata": {},
   "outputs": [
    {
     "name": "stdout",
     "output_type": "stream",
     "text": [
      "<1, 0, 1>\n"
     ]
    }
   ],
   "source": [
    "tuple_vec = (1, 0, 1)\n",
    "list_vec = [1, 0, 1]\n",
    "\n",
    "print_vector(*tuple_vec)"
   ]
  },
  {
   "cell_type": "code",
   "execution_count": 35,
   "id": "addefd53-af66-49e7-9685-f796690a3b39",
   "metadata": {},
   "outputs": [
    {
     "name": "stdout",
     "output_type": "stream",
     "text": [
      "<1, 0, 1>\n"
     ]
    }
   ],
   "source": [
    "print_vector(*list_vec)"
   ]
  },
  {
   "cell_type": "code",
   "execution_count": 37,
   "id": "958eff0d-04fa-4174-a0c6-f9d28b08cbb7",
   "metadata": {},
   "outputs": [
    {
     "name": "stdout",
     "output_type": "stream",
     "text": [
      "<0, 1, 4>\n"
     ]
    }
   ],
   "source": [
    "# This technique works for any iterable, including generator expressions.\n",
    "genexpr = (x * x for x in range(3))\n",
    "print_vector(*genexpr)"
   ]
  },
  {
   "cell_type": "markdown",
   "id": "146a1618-3d1a-48dc-9a98-ec1c5945448b",
   "metadata": {},
   "source": [
    "there’s also the ** operator for unpacking keyword arguments from dictionaries."
   ]
  },
  {
   "cell_type": "code",
   "execution_count": 38,
   "id": "691f5574-deac-422a-a2f0-38be1b9f1b1a",
   "metadata": {},
   "outputs": [
    {
     "name": "stdout",
     "output_type": "stream",
     "text": [
      "<0, 1, 2>\n"
     ]
    }
   ],
   "source": [
    "dict_vec = {\"x\":0, \"y\":1, \"z\":2}\n",
    "print_vector(**dict_vec)"
   ]
  },
  {
   "cell_type": "code",
   "execution_count": 40,
   "id": "813adf39-12a9-4a57-a1a3-f2cfe2b30af5",
   "metadata": {},
   "outputs": [
    {
     "name": "stdout",
     "output_type": "stream",
     "text": [
      "<x, y, z>\n"
     ]
    }
   ],
   "source": [
    "# If you were to use the single asterisk (*) operator to unpack the dictionary\n",
    "# keys would be passed to the function in random order instead\n",
    "print_vector(*dict_vec)"
   ]
  },
  {
   "cell_type": "code",
   "execution_count": 41,
   "id": "3cfac52c-504c-4e76-93d6-362757c38100",
   "metadata": {},
   "outputs": [],
   "source": [
    "a, *b, c = [1,2,3,4]"
   ]
  },
  {
   "cell_type": "code",
   "execution_count": 43,
   "id": "c615578c-e701-4996-82d9-dd6e896fb14b",
   "metadata": {},
   "outputs": [],
   "source": [
    "a, *b, c = (1,2,3,4)"
   ]
  },
  {
   "cell_type": "code",
   "execution_count": 44,
   "id": "0d96ba68-71ca-4a2b-9910-95fe874f90a0",
   "metadata": {},
   "outputs": [
    {
     "data": {
      "text/plain": [
       "[2, 3]"
      ]
     },
     "execution_count": 44,
     "metadata": {},
     "output_type": "execute_result"
    }
   ],
   "source": [
    "b"
   ]
  },
  {
   "cell_type": "markdown",
   "id": "0d37801c-b25e-4c8c-8904-548ad5656c35",
   "metadata": {},
   "source": [
    "# Nothing to Return Here"
   ]
  },
  {
   "cell_type": "markdown",
   "id": "b3d77cba-1c94-4194-9fb7-48629b45714b",
   "metadata": {},
   "source": [
    "**Python adds an implicit return None statement to the end of any\n",
    "function. Therefore, if a function doesn’t specify a return value, it returns\n",
    "None by default.**"
   ]
  },
  {
   "cell_type": "code",
   "execution_count": 45,
   "id": "7b396e61-ac31-46fc-b960-e160113335e4",
   "metadata": {},
   "outputs": [],
   "source": [
    "def foo1(value):\n",
    "    if value:\n",
    "        return value\n",
    "    else:\n",
    "        return None\n",
    "    \n",
    "def foo2(value):\n",
    "    \"\"\"Bare return statement implies `return None`\"\"\"\n",
    "    if value:\n",
    "        return value\n",
    "    else:\n",
    "        return\n",
    "    \n",
    "def foo3(value):\n",
    "    \"\"\"Missing return statement implies `return None`\"\"\"\n",
    "    if value:\n",
    "        return value"
   ]
  },
  {
   "cell_type": "code",
   "execution_count": 46,
   "id": "e986df0f-6d9c-4504-8a4c-ad48fd8417dc",
   "metadata": {},
   "outputs": [
    {
     "data": {
      "text/plain": [
       "NoneType"
      ]
     },
     "execution_count": 46,
     "metadata": {},
     "output_type": "execute_result"
    }
   ],
   "source": [
    "type(foo1(0))"
   ]
  },
  {
   "cell_type": "code",
   "execution_count": 47,
   "id": "6c1667ab-b832-4e25-ab07-e6e2630984d6",
   "metadata": {},
   "outputs": [
    {
     "data": {
      "text/plain": [
       "NoneType"
      ]
     },
     "execution_count": 47,
     "metadata": {},
     "output_type": "execute_result"
    }
   ],
   "source": [
    "type(foo2(0))"
   ]
  },
  {
   "cell_type": "code",
   "execution_count": 48,
   "id": "4127d63c-3a2a-4986-ad5b-b42436381d19",
   "metadata": {},
   "outputs": [
    {
     "data": {
      "text/plain": [
       "NoneType"
      ]
     },
     "execution_count": 48,
     "metadata": {},
     "output_type": "execute_result"
    }
   ],
   "source": [
    "type(foo3(0))"
   ]
  },
  {
   "cell_type": "markdown",
   "id": "d5d37901-d046-4186-beb6-d085827aa2be",
   "metadata": {},
   "source": [
    "- If a function doesn’t specify a return value, it returns None.\n",
    "Whether to explicitly return None is a stylistic decision.\n",
    "- This is a core Python feature but your code might communicate\n",
    "its intent more clearly with an explicit return None statement."
   ]
  },
  {
   "cell_type": "code",
   "execution_count": null,
   "id": "e47cdf11-6c1b-48d2-a325-53ac0e8b956f",
   "metadata": {},
   "outputs": [],
   "source": []
  }
 ],
 "metadata": {
  "kernelspec": {
   "display_name": "Python 3",
   "language": "python",
   "name": "python3"
  },
  "language_info": {
   "codemirror_mode": {
    "name": "ipython",
    "version": 3
   },
   "file_extension": ".py",
   "mimetype": "text/x-python",
   "name": "python",
   "nbconvert_exporter": "python",
   "pygments_lexer": "ipython3",
   "version": "3.7.4"
  }
 },
 "nbformat": 4,
 "nbformat_minor": 5
}
