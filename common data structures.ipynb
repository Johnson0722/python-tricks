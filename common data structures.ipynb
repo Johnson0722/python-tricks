{
 "cells": [
  {
   "cell_type": "markdown",
   "id": "782b595d-c70c-4b39-8870-b8452cbb2e1d",
   "metadata": {},
   "source": [
    "# Dictionaries, Maps, and Hashtables"
   ]
  },
  {
   "cell_type": "markdown",
   "id": "bcf43c18-0164-4934-bd67-12cf5b00f245",
   "metadata": {},
   "source": [
    "Dictionaries are also often called maps, hashmaps, lookup tables,"
   ]
  },
  {
   "cell_type": "markdown",
   "id": "ea86ebcd-b264-4667-848a-c77486fe6154",
   "metadata": {},
   "source": [
    "Python’s dictionaries are indexed by keys that can be of any hashable\n",
    "type2: A hashable object has a hash value which never changes during\n",
    "its lifetime (see \\_\\_hash__), and it can be compared to other objects\n",
    "(see \\_\\_eq__)."
   ]
  },
  {
   "cell_type": "code",
   "execution_count": 10,
   "id": "e7ca2b93-dc5b-4827-9503-afd77620c3c4",
   "metadata": {},
   "outputs": [
    {
     "data": {
      "text/plain": [
       "ChainMap({'one': 1, 'two': 2}, {'three': 1, 'four': 2, 'one': 2})"
      ]
     },
     "execution_count": 10,
     "metadata": {},
     "output_type": "execute_result"
    }
   ],
   "source": [
    "# collections.ChainMap – Search Multiple Dictionaries as a Single Mapping\n",
    "from collections import ChainMap\n",
    "\n",
    "dict1 = {'one': 1, 'two': 2}\n",
    "dict2 = {'three': 1, 'four': 2, \"one\":2}\n",
    "chain = ChainMap(dict1, dict2)\n",
    "chain"
   ]
  },
  {
   "cell_type": "code",
   "execution_count": 13,
   "id": "d02503a5-3b94-46a1-b17e-758f9e36f06d",
   "metadata": {},
   "outputs": [
    {
     "data": {
      "text/plain": [
       "1"
      ]
     },
     "execution_count": 13,
     "metadata": {},
     "output_type": "execute_result"
    }
   ],
   "source": [
    "chain['one']"
   ]
  },
  {
   "cell_type": "code",
   "execution_count": 14,
   "id": "3b3b2c95-4ea0-408e-809e-9ab607e7ea17",
   "metadata": {},
   "outputs": [
    {
     "data": {
      "text/plain": [
       "4"
      ]
     },
     "execution_count": 14,
     "metadata": {},
     "output_type": "execute_result"
    }
   ],
   "source": [
    "len(chain)"
   ]
  },
  {
   "cell_type": "code",
   "execution_count": 15,
   "id": "61c95b6b-63bd-4569-856c-26f9ef0d4cc6",
   "metadata": {},
   "outputs": [],
   "source": [
    "# types.MappingProxyType – A Wrapper for Making Read-Only Dictionaries\n",
    "# it can be used to create immutable proxy versions of dictionaries.\n",
    "\n",
    "from types import MappingProxyType\n",
    "\n",
    "writable = {\"one\":1, \"two\":2}\n",
    "readonly = MappingProxyType(writable)"
   ]
  },
  {
   "cell_type": "code",
   "execution_count": 16,
   "id": "06294fb0-0ed9-45cc-b32d-4d5fcef8d0c2",
   "metadata": {},
   "outputs": [
    {
     "ename": "TypeError",
     "evalue": "'mappingproxy' object does not support item assignment",
     "output_type": "error",
     "traceback": [
      "\u001b[0;31m---------------------------------------------------------------------------\u001b[0m",
      "\u001b[0;31mTypeError\u001b[0m                                 Traceback (most recent call last)",
      "\u001b[0;32m<ipython-input-16-eee57c778717>\u001b[0m in \u001b[0;36m<module>\u001b[0;34m\u001b[0m\n\u001b[0;32m----> 1\u001b[0;31m \u001b[0mreadonly\u001b[0m\u001b[0;34m[\u001b[0m\u001b[0;34m\"one\"\u001b[0m\u001b[0;34m]\u001b[0m \u001b[0;34m=\u001b[0m \u001b[0;36m1\u001b[0m\u001b[0;34m\u001b[0m\u001b[0;34m\u001b[0m\u001b[0m\n\u001b[0m",
      "\u001b[0;31mTypeError\u001b[0m: 'mappingproxy' object does not support item assignment"
     ]
    }
   ],
   "source": [
    "readonly[\"one\"] = 1"
   ]
  },
  {
   "cell_type": "code",
   "execution_count": 19,
   "id": "350381b6-1c3f-4a84-898c-8a2477b0e6fd",
   "metadata": {},
   "outputs": [
    {
     "data": {
      "text/plain": [
       "mappingproxy({'one': 42, 'two': 2})"
      ]
     },
     "execution_count": 19,
     "metadata": {},
     "output_type": "execute_result"
    }
   ],
   "source": [
    "# Updates to the original are reflected in the proxy:\n",
    "writable['one'] = 42\n",
    "readonly"
   ]
  },
  {
   "cell_type": "markdown",
   "id": "398ca050-478d-4cbd-96fc-e305aae20c4c",
   "metadata": {},
   "source": [
    "- Dictionaries are the central data structure in Python.\n",
    "- The built-in dict type will be “good enough” most of the time.\n",
    "- Specialized implementations, like read-only or ordered dicts, are available in the Python standard library."
   ]
  },
  {
   "cell_type": "markdown",
   "id": "c7e6d0f3-52fe-4751-b75d-90c4f08beca5",
   "metadata": {},
   "source": [
    "# Array Data Structures"
   ]
  },
  {
   "cell_type": "markdown",
   "id": "dc983541-432a-4831-ae51-81fdc2bd5dfc",
   "metadata": {},
   "source": [
    "Arrays consist of fixed-size data records that allow each element to be\n",
    "efficiently located based on its index."
   ]
  },
  {
   "cell_type": "markdown",
   "id": "59acecd9-0056-46b0-b2b5-ca3d86ee0dbb",
   "metadata": {},
   "source": [
    "arrays store information in adjoining blocks of memory,\n",
    "they’re considered contiguous data structures"
   ]
  },
  {
   "cell_type": "code",
   "execution_count": 22,
   "id": "7f0a9fcc-85c4-403a-b97a-860a40581687",
   "metadata": {},
   "outputs": [
    {
     "data": {
      "text/plain": [
       "'one'"
      ]
     },
     "execution_count": 22,
     "metadata": {},
     "output_type": "execute_result"
    }
   ],
   "source": [
    "# list – Mutable Dynamic Arrays\n",
    "arr = ['one', 'two', 'three']\n",
    "arr[0]"
   ]
  },
  {
   "cell_type": "markdown",
   "id": "4af9f27c-1a4a-49a9-9d88-3a50389d8d62",
   "metadata": {},
   "source": [
    "but the downside is that supporting\n",
    "multiple data types at the same time means that data is generally less\n",
    "tightly packed"
   ]
  },
  {
   "cell_type": "code",
   "execution_count": 24,
   "id": "3c7e8486-e72b-4cf9-95ad-efbe5443e656",
   "metadata": {},
   "outputs": [
    {
     "data": {
      "text/plain": [
       "['one', 'two', 'three']"
      ]
     },
     "execution_count": 24,
     "metadata": {},
     "output_type": "execute_result"
    }
   ],
   "source": [
    "# Lists have a nice repr:\n",
    "arr"
   ]
  },
  {
   "cell_type": "code",
   "execution_count": 25,
   "id": "dd72c859-9fe0-44c2-8a5e-365301d816d3",
   "metadata": {},
   "outputs": [],
   "source": [
    "# tuple – Immutable Containers\n",
    "arr = ('one', 'two', 'three')"
   ]
  },
  {
   "cell_type": "markdown",
   "id": "8f0ba42f-72d7-4a2d-a00e-8f9e41a6ff18",
   "metadata": {},
   "source": [
    "tuples can hold elements of arbitrary data types. Having\n",
    "this flexibility is powerful, but again, it also means that data is less\n",
    "tightly packed than it would be in a typed array"
   ]
  },
  {
   "cell_type": "code",
   "execution_count": 26,
   "id": "8e027459-e766-4e23-afd5-4b19cd6f5aa6",
   "metadata": {},
   "outputs": [
    {
     "ename": "TypeError",
     "evalue": "'tuple' object doesn't support item deletion",
     "output_type": "error",
     "traceback": [
      "\u001b[0;31m---------------------------------------------------------------------------\u001b[0m",
      "\u001b[0;31mTypeError\u001b[0m                                 Traceback (most recent call last)",
      "\u001b[0;32m<ipython-input-26-df001b61e2e0>\u001b[0m in \u001b[0;36m<module>\u001b[0;34m\u001b[0m\n\u001b[0;32m----> 1\u001b[0;31m \u001b[0;32mdel\u001b[0m \u001b[0marr\u001b[0m\u001b[0;34m[\u001b[0m\u001b[0;36m1\u001b[0m\u001b[0;34m]\u001b[0m\u001b[0;34m\u001b[0m\u001b[0;34m\u001b[0m\u001b[0m\n\u001b[0m",
      "\u001b[0;31mTypeError\u001b[0m: 'tuple' object doesn't support item deletion"
     ]
    }
   ],
   "source": [
    "del arr[1]"
   ]
  },
  {
   "cell_type": "code",
   "execution_count": 20,
   "id": "b70422c3-61ad-44ed-8a33-e5cd53f1b6fe",
   "metadata": {},
   "outputs": [
    {
     "data": {
      "text/plain": [
       "'b'"
      ]
     },
     "execution_count": 20,
     "metadata": {},
     "output_type": "execute_result"
    }
   ],
   "source": [
    "# str - Immutable Arrays of Unicode Characters\n",
    "\n",
    "arr = \"abcd\"\n",
    "arr[1]"
   ]
  },
  {
   "cell_type": "code",
   "execution_count": 21,
   "id": "7a3fb22d-6554-4808-b43c-1c0272105c74",
   "metadata": {},
   "outputs": [
    {
     "ename": "TypeError",
     "evalue": "'str' object does not support item assignment",
     "output_type": "error",
     "traceback": [
      "\u001b[0;31m---------------------------------------------------------------------------\u001b[0m",
      "\u001b[0;31mTypeError\u001b[0m                                 Traceback (most recent call last)",
      "\u001b[0;32m<ipython-input-21-a0c9525a5775>\u001b[0m in \u001b[0;36m<module>\u001b[0;34m\u001b[0m\n\u001b[0;32m----> 1\u001b[0;31m \u001b[0marr\u001b[0m\u001b[0;34m[\u001b[0m\u001b[0;36m1\u001b[0m\u001b[0;34m]\u001b[0m \u001b[0;34m=\u001b[0m \u001b[0;34m\"e\"\u001b[0m\u001b[0;34m\u001b[0m\u001b[0;34m\u001b[0m\u001b[0m\n\u001b[0m",
      "\u001b[0;31mTypeError\u001b[0m: 'str' object does not support item assignment"
     ]
    }
   ],
   "source": [
    "arr[1] = \"e\""
   ]
  },
  {
   "cell_type": "markdown",
   "id": "1286fb3a-9593-4c34-8933-6e8607c4edf7",
   "metadata": {},
   "source": [
    "- You need to store arbitrary objects, potentially with mixed\n",
    "data types? Use a list or a tuple, depending on whether you want\n",
    "an immutable data structure or not.\n",
    "- You have numeric (integer or floating point) data and tight\n",
    "packing and performance is important? Try out array.array\n",
    "and see if it does everything you need. Also, consider going beyond\n",
    "the standard library and try out packages like NumPy or Pandas.\n",
    "- You have textual data represented as Unicode characters?\n",
    "Use Python’s built-in str. If you need a “mutable string,” use a list\n",
    "of characters."
   ]
  },
  {
   "cell_type": "markdown",
   "id": "aa466379-04b3-4aec-af95-b6a71d0e2564",
   "metadata": {},
   "source": [
    "# Records, Structs, and Data Transfer Objects"
   ]
  },
  {
   "cell_type": "markdown",
   "id": "4e7745c1-ce74-466b-80b2-cc50eda13087",
   "metadata": {},
   "source": [
    "# Sets and Multisets"
   ]
  },
  {
   "cell_type": "markdown",
   "id": "2ac9643e-bbc5-4555-81b4-a6a357e2a146",
   "metadata": {},
   "source": [
    "A set is an unordered collection of objects that does not allow duplicate\n",
    "elements"
   ]
  },
  {
   "cell_type": "code",
   "execution_count": 27,
   "id": "022a0c9e-8563-44d5-86fa-d8f281949c9f",
   "metadata": {},
   "outputs": [],
   "source": [
    "vowels = {'a', 'e', 'i', 'o', 'u'}\n",
    "squares = {x * x for x in range(10)}"
   ]
  },
  {
   "cell_type": "code",
   "execution_count": 28,
   "id": "3aa9578f-423a-4b7a-a492-4cf4bd66e596",
   "metadata": {},
   "outputs": [
    {
     "name": "stdout",
     "output_type": "stream",
     "text": [
      "{'i', 'u', 'e', 'o', 'a'}\n",
      "{0, 1, 64, 4, 36, 9, 16, 49, 81, 25}\n"
     ]
    }
   ],
   "source": [
    "print(vowels)\n",
    "print(squares)"
   ]
  },
  {
   "cell_type": "code",
   "execution_count": 29,
   "id": "6d4e5df1-1a92-4439-aa39-cb54b191155d",
   "metadata": {},
   "outputs": [],
   "source": [
    "# The set type is mutable and allows for the dynamic insertion and deletion of elements\n",
    "vowels.add(\"x\")"
   ]
  },
  {
   "cell_type": "code",
   "execution_count": 30,
   "id": "d41c12fa-3fa8-4884-9b90-4a0aa4a2bbf9",
   "metadata": {},
   "outputs": [
    {
     "name": "stdout",
     "output_type": "stream",
     "text": [
      "{'i', 'u', 'e', 'x', 'o', 'a'}\n"
     ]
    }
   ],
   "source": [
    "print(vowels)"
   ]
  },
  {
   "cell_type": "code",
   "execution_count": 31,
   "id": "0b15f8ae-c716-488a-85df-b69c6ef1ccd0",
   "metadata": {},
   "outputs": [
    {
     "ename": "AttributeError",
     "evalue": "'frozenset' object has no attribute 'add'",
     "output_type": "error",
     "traceback": [
      "\u001b[0;31m---------------------------------------------------------------------------\u001b[0m",
      "\u001b[0;31mAttributeError\u001b[0m                            Traceback (most recent call last)",
      "\u001b[0;32m<ipython-input-31-1b7ec53eb4da>\u001b[0m in \u001b[0;36m<module>\u001b[0;34m\u001b[0m\n\u001b[1;32m      1\u001b[0m \u001b[0;31m# frozenset – Immutable Sets\u001b[0m\u001b[0;34m\u001b[0m\u001b[0;34m\u001b[0m\u001b[0;34m\u001b[0m\u001b[0m\n\u001b[1;32m      2\u001b[0m \u001b[0mvowels\u001b[0m \u001b[0;34m=\u001b[0m \u001b[0mfrozenset\u001b[0m\u001b[0;34m(\u001b[0m\u001b[0;34m{\u001b[0m\u001b[0;34m'a'\u001b[0m\u001b[0;34m,\u001b[0m \u001b[0;34m'e'\u001b[0m\u001b[0;34m,\u001b[0m \u001b[0;34m'i'\u001b[0m\u001b[0;34m,\u001b[0m \u001b[0;34m'o'\u001b[0m\u001b[0;34m,\u001b[0m \u001b[0;34m'u'\u001b[0m\u001b[0;34m}\u001b[0m\u001b[0;34m)\u001b[0m\u001b[0;34m\u001b[0m\u001b[0;34m\u001b[0m\u001b[0m\n\u001b[0;32m----> 3\u001b[0;31m \u001b[0mvowels\u001b[0m\u001b[0;34m.\u001b[0m\u001b[0madd\u001b[0m\u001b[0;34m(\u001b[0m\u001b[0;34m\"X\"\u001b[0m\u001b[0;34m)\u001b[0m\u001b[0;34m\u001b[0m\u001b[0;34m\u001b[0m\u001b[0m\n\u001b[0m",
      "\u001b[0;31mAttributeError\u001b[0m: 'frozenset' object has no attribute 'add'"
     ]
    }
   ],
   "source": [
    "# frozenset – Immutable Sets\n",
    "vowels = frozenset({'a', 'e', 'i', 'o', 'u'})\n",
    "vowels.add(\"X\")"
   ]
  },
  {
   "cell_type": "markdown",
   "id": "b73030b9-cf02-4a54-b03d-270e7f51aae7",
   "metadata": {},
   "source": [
    "Frozensets are\n",
    "static and only allow query operations on their elements (no inserts\n",
    "or deletions.) Because frozensets are static and hashable, they can be\n",
    "used as dictionary keys or as elements of another set"
   ]
  },
  {
   "cell_type": "code",
   "execution_count": 32,
   "id": "602a7d8a-dc74-47b8-a4d6-6d72dbbbfe5b",
   "metadata": {},
   "outputs": [],
   "source": [
    "# collections.Counter – Multisets\n",
    "from collections import Counter\n",
    "\n",
    "inventory = Counter()\n",
    "loot = {'sword': 1, 'bread': 3}\n",
    "inventory.update(loot)"
   ]
  },
  {
   "cell_type": "markdown",
   "id": "a1f2ec89-3ab3-484d-89e9-00764c90fa50",
   "metadata": {},
   "source": [
    "The collections.Counter class in the Python standard library implements\n",
    "a multiset (or bag) type that allows elements in the set to\n",
    "have more than one occurrence"
   ]
  },
  {
   "cell_type": "code",
   "execution_count": 33,
   "id": "34e5ba4d-594d-46b4-8fef-3ca2a77d43aa",
   "metadata": {},
   "outputs": [
    {
     "data": {
      "text/plain": [
       "Counter({'sword': 1, 'bread': 3})"
      ]
     },
     "execution_count": 33,
     "metadata": {},
     "output_type": "execute_result"
    }
   ],
   "source": [
    "inventory"
   ]
  },
  {
   "cell_type": "code",
   "execution_count": 34,
   "id": "f5947717-b6ad-45d1-99f1-eebf19b6a4e2",
   "metadata": {},
   "outputs": [
    {
     "name": "stdout",
     "output_type": "stream",
     "text": [
      "Counter({'bread': 3, 'sword': 2, 'apple': 1})\n"
     ]
    }
   ],
   "source": [
    "more_loot = {'sword': 1, 'apple': 1}\n",
    "inventory.update(more_loot)\n",
    "print(inventory)"
   ]
  },
  {
   "cell_type": "markdown",
   "id": "24698110-153a-41de-8db5-9e701978a51d",
   "metadata": {},
   "source": [
    "- Sets are another useful and commonly used data structure included\n",
    "with Python and its standard library.\n",
    "- Use the built-in set type when looking for a mutable set.\n",
    "- frozenset objects are hashable and can be used as dictionary\n",
    "or set keys.\n",
    "- collections.Counter implements multiset or “bag” data\n",
    "structures."
   ]
  },
  {
   "cell_type": "markdown",
   "id": "dc7165cb-2afd-4cdc-ab62-6f22e7f626b6",
   "metadata": {},
   "source": [
    "# Stacks (LIFOs)"
   ]
  },
  {
   "cell_type": "markdown",
   "id": "51437308-ee3e-4064-9bf6-29adc7cf94f1",
   "metadata": {},
   "source": [
    "A stack is a collection of objects that supports fast last-in, first-out\n",
    "(LIFO) semantics for inserts and deletes."
   ]
  },
  {
   "cell_type": "markdown",
   "id": "20ce9d14-85e9-460e-9679-c15ef38cd6b6",
   "metadata": {},
   "source": [
    "**list – Simple, Built-In Stacks**\n",
    "\n",
    "python’s lists are implemented as dynamic arrays internally, which\n",
    "means they occasionally need to resize the storage space for elements\n",
    "stored in them when elements are added or removed."
   ]
  },
  {
   "cell_type": "markdown",
   "id": "6e8a4014-4064-4a34-897d-a9896d7514e3",
   "metadata": {
    "tags": []
   },
   "source": [
    "**collections.deque – Fast & Robust Stacks**\n",
    "\n",
    "Python’s deque objects are implemented as doubly-linked lists which\n",
    "gives them excellent and consistent performance for inserting and\n",
    "deleting elements, but poor O(n) performance for randomly accessing\n",
    "elements in the middle of a stack"
   ]
  },
  {
   "cell_type": "code",
   "execution_count": 35,
   "id": "9611c08b-bb03-421d-a5b6-6dfcbfd90502",
   "metadata": {},
   "outputs": [],
   "source": [
    "from collections import deque\n",
    "s = deque()\n",
    "s.append('eat')\n",
    "s.append('sleep')"
   ]
  },
  {
   "cell_type": "code",
   "execution_count": 36,
   "id": "9fb4b385-f75e-48fd-a8ad-00bba76e5f23",
   "metadata": {},
   "outputs": [
    {
     "data": {
      "text/plain": [
       "'eat'"
      ]
     },
     "execution_count": 36,
     "metadata": {},
     "output_type": "execute_result"
    }
   ],
   "source": [
    "s.popleft()"
   ]
  },
  {
   "cell_type": "markdown",
   "id": "b1a2f7e8-3467-47fe-82fe-afda9f3d5f01",
   "metadata": {},
   "source": [
    "- Python ships with several stack implementations that have\n",
    "slightly different performance and usage characteristics.\n",
    "-  collections.deque provides a safe and fast general-purpose\n",
    "stack implementation.\n",
    "- The built-in list type can be used as a stack, but be careful\n",
    "to only append and remove items with append() and pop() in\n",
    "order to avoid slow performance"
   ]
  },
  {
   "cell_type": "markdown",
   "id": "804525e3-bd80-458e-afe6-bace18d80412",
   "metadata": {},
   "source": [
    "# Queues (FIFOs)"
   ]
  },
  {
   "cell_type": "markdown",
   "id": "44ddd420-f906-4b9a-8635-5ab997acc91b",
   "metadata": {},
   "source": [
    "A queue is a collection of objects that supports fast first-in, first-out\n",
    "(FIFO) semantics for inserts and deletes. The insert and delete operations\n",
    "are sometimes called enqueue and dequeue. Unlike lists or\n",
    "arrays, queues typically don’t allow for random access to the objects\n",
    "they contain."
   ]
  },
  {
   "cell_type": "markdown",
   "id": "66f3caf3-4a4f-4817-ae9f-074c7629c3f9",
   "metadata": {},
   "source": [
    "Performance-wise, a proper queue implementation is expected to take\n",
    "O(1) time for insert and delete operations."
   ]
  },
  {
   "cell_type": "markdown",
   "id": "98a8facd-904d-4a9d-9991-8ad5e59cd1d7",
   "metadata": {},
   "source": [
    "**list — Terribly Sloooow Queues**\n",
    "\n",
    "Lists are quite slow for this purpose because\n",
    "inserting or deleting an element at the beginning requires shifting\n",
    "all of the other elements by one, requiring O(n) tim"
   ]
  },
  {
   "cell_type": "code",
   "execution_count": 37,
   "id": "4d3bc558-c92e-48c4-bd3e-50e79c0ba875",
   "metadata": {},
   "outputs": [
    {
     "data": {
      "text/plain": [
       "1"
      ]
     },
     "execution_count": 37,
     "metadata": {},
     "output_type": "execute_result"
    }
   ],
   "source": [
    "q = [1,2,3,4]\n",
    "q.pop(0)"
   ]
  },
  {
   "cell_type": "markdown",
   "id": "5a9b61d1-14f3-4fff-91fe-f8931a653e73",
   "metadata": {},
   "source": [
    "**collections.deque – Fast & Robust Queues**"
   ]
  },
  {
   "cell_type": "markdown",
   "id": "74feed71-ff76-4c96-b66f-2b562ec5b6b4",
   "metadata": {},
   "source": [
    "The deque class implements a double-ended queue that supports\n",
    "adding and removing elements from either end in O(1) time"
   ]
  },
  {
   "cell_type": "markdown",
   "id": "8e6501b6-b7d0-4d66-b596-40b47af9f1f0",
   "metadata": {},
   "source": [
    "**queue.Queue – Locking Semantics for Parallel Computing**\n",
    "\n",
    "This queue implementation in the Python standard library is synchronized\n",
    "and provides locking semantics to support multiple concurrent\n",
    "producers and consumers."
   ]
  },
  {
   "cell_type": "code",
   "execution_count": 38,
   "id": "c486c219-8a1a-4206-9b77-880ae9000ab4",
   "metadata": {},
   "outputs": [],
   "source": [
    "from queue import Queue\n",
    "\n",
    "q = Queue()\n",
    "q.put('eat')\n",
    "q.put(\"sleep\")"
   ]
  },
  {
   "cell_type": "code",
   "execution_count": 39,
   "id": "5b9c9eba-0bea-4e96-b917-8714f08e56e9",
   "metadata": {},
   "outputs": [
    {
     "data": {
      "text/plain": [
       "<queue.Queue at 0x106ba2b90>"
      ]
     },
     "execution_count": 39,
     "metadata": {},
     "output_type": "execute_result"
    }
   ],
   "source": [
    "q"
   ]
  },
  {
   "cell_type": "code",
   "execution_count": 40,
   "id": "93da9900-9538-455b-9a03-5a00796ded99",
   "metadata": {},
   "outputs": [
    {
     "data": {
      "text/plain": [
       "'eat'"
      ]
     },
     "execution_count": 40,
     "metadata": {},
     "output_type": "execute_result"
    }
   ],
   "source": [
    "q.get()"
   ]
  },
  {
   "cell_type": "code",
   "execution_count": 41,
   "id": "e3e2308e-25e2-4a9b-a465-52afbdd6c2ce",
   "metadata": {},
   "outputs": [
    {
     "data": {
      "text/plain": [
       "'sleep'"
      ]
     },
     "execution_count": 41,
     "metadata": {},
     "output_type": "execute_result"
    }
   ],
   "source": [
    "q.get()"
   ]
  },
  {
   "cell_type": "code",
   "execution_count": 43,
   "id": "b405d919-f17e-4b4a-8e56-618e1fdab2fd",
   "metadata": {},
   "outputs": [],
   "source": [
    "q.put(\"ss\")"
   ]
  },
  {
   "cell_type": "code",
   "execution_count": 44,
   "id": "109514a7-2b29-46ab-8e22-08e2d4fb1d40",
   "metadata": {},
   "outputs": [
    {
     "data": {
      "text/plain": [
       "'ss'"
      ]
     },
     "execution_count": 44,
     "metadata": {},
     "output_type": "execute_result"
    }
   ],
   "source": [
    "q.get_nowait()"
   ]
  },
  {
   "cell_type": "markdown",
   "id": "ddaaaaad-fcd9-4244-87f2-2034986c7ab3",
   "metadata": {},
   "source": [
    "**multiprocessing.Queue – Shared Job Queues**\n",
    "\n",
    "As a specialized queue implementation meant for sharing data\n",
    "between processes, multiprocessing.Queue makes it easy to distribute\n",
    "work across multiple processes in order to work around\n",
    "the GIL limitations. This type of queue can store and transfer any\n",
    "pickle-able object across process boundaries"
   ]
  },
  {
   "cell_type": "markdown",
   "id": "8cffac37-b379-40bd-90e8-7fa4fdeafadb",
   "metadata": {},
   "source": [
    "- Python includes several queue implementations as part of the\n",
    "core language and its standard library.\n",
    "- list objects can be used as queues, but this is generally not\n",
    "recommended due to slow performance.\n",
    "- If you’re not looking for parallel processing support, the implementation\n",
    "offered by collections.deque is an excellent default\n",
    "choice for implementing a FIFO queue data structure in\n",
    "Python. It provides the performance characteristics you’d expect\n",
    "from a good queue implementation and can also be used\n",
    "as a stack (LIFO Queue)."
   ]
  },
  {
   "cell_type": "markdown",
   "id": "79dc7169-b59e-4424-863c-1f0b57a60a18",
   "metadata": {},
   "source": [
    "# Priority Queues"
   ]
  },
  {
   "cell_type": "markdown",
   "id": "0b77797a-af14-43bc-aeb0-ef51a09d9b08",
   "metadata": {},
   "source": [
    "You can think of a priority queue as a modified queue: instead of retrieving\n",
    "the next element by insertion time, it retrieves the highestpriority\n",
    "element. The priority of individual elements is decided by\n",
    "the ordering applied to their keys."
   ]
  },
  {
   "cell_type": "markdown",
   "id": "c380935c-71e6-43e4-bc26-e32bcad1147f",
   "metadata": {},
   "source": [
    "**list – Maintaining a Manually Sorted Queue**\n",
    "\n",
    "\n",
    "You can use a sorted list to quickly identify and delete the smallest\n",
    "or largest element."
   ]
  },
  {
   "cell_type": "code",
   "execution_count": 45,
   "id": "d5f71642-8002-4efc-a616-4866fe8e5a67",
   "metadata": {},
   "outputs": [],
   "source": [
    "q = []\n",
    "q.append((2, 'code'))\n",
    "q.append((1, 'eat'))\n",
    "q.append((3, 'sleep'))\n",
    "\n",
    "# NOTE: Remember to re-sort every time\n",
    "# a new element is inserted, or use\n",
    "# bisect.insort().\n",
    "q.sort(reverse=True)"
   ]
  },
  {
   "cell_type": "code",
   "execution_count": 46,
   "id": "6baadc63-0967-4b02-9d5c-51539c232542",
   "metadata": {},
   "outputs": [
    {
     "name": "stdout",
     "output_type": "stream",
     "text": [
      "(1, 'eat')\n",
      "(2, 'code')\n",
      "(3, 'sleep')\n"
     ]
    }
   ],
   "source": [
    "while q:\n",
    "    next_item = q.pop()\n",
    "    print(next_item)"
   ]
  },
  {
   "cell_type": "markdown",
   "id": "9382d8ed-c499-4492-b3e3-c916df539ae8",
   "metadata": {},
   "source": [
    "**heapq – List-Based Binary Heaps**\n",
    "\n",
    "This is a binary heap implementation usually backed by a plain list,\n",
    "and it supports insertion and extraction of the smallest element in\n",
    "O(log n) time"
   ]
  },
  {
   "cell_type": "markdown",
   "id": "aafff6dc-e424-42b5-b476-b76f80b16c15",
   "metadata": {},
   "source": [
    "since heapq technically only provides a min-heap implementation,\n",
    "extra steps must be taken to ensure sort stability and other\n",
    "features typically expected from a “practical” priority queue."
   ]
  },
  {
   "cell_type": "code",
   "execution_count": 47,
   "id": "816cced9-c71d-4149-98ef-e0125fae2c09",
   "metadata": {},
   "outputs": [
    {
     "name": "stdout",
     "output_type": "stream",
     "text": [
      "(1, 'eat')\n",
      "(2, 'code')\n",
      "(3, 'sleep')\n"
     ]
    }
   ],
   "source": [
    "import heapq\n",
    "\n",
    "q = []\n",
    "heapq.heappush(q, (2, 'code'))\n",
    "heapq.heappush(q, (1, 'eat'))\n",
    "heapq.heappush(q, (3, 'sleep'))\n",
    "while q:\n",
    "    next_item = heapq.heappop(q)\n",
    "    print(next_item)"
   ]
  },
  {
   "cell_type": "markdown",
   "id": "7411f119-51d5-444e-a5a0-750ea9e99be3",
   "metadata": {},
   "source": [
    "**queue.PriorityQueue – Beautiful Priority Queues**"
   ]
  },
  {
   "cell_type": "markdown",
   "id": "930447e1-4d79-448a-85d9-815a87683651",
   "metadata": {},
   "source": [
    "This priority queue implementation uses heapq internally and shares\n",
    "the same time and space complexities."
   ]
  },
  {
   "cell_type": "code",
   "execution_count": 48,
   "id": "67b6d3be-c98e-40eb-a60a-9e13e9ad082f",
   "metadata": {},
   "outputs": [
    {
     "name": "stdout",
     "output_type": "stream",
     "text": [
      "(1, 'eat')\n",
      "(2, 'code')\n",
      "(3, 'sleep')\n"
     ]
    }
   ],
   "source": [
    "from queue import PriorityQueue\n",
    "q = PriorityQueue()\n",
    "q.put((2, 'code'))\n",
    "q.put((1, 'eat'))\n",
    "q.put((3, 'sleep'))\n",
    "while not q.empty():\n",
    "    next_item = q.get()\n",
    "    print(next_item)"
   ]
  },
  {
   "cell_type": "markdown",
   "id": "6f2d1193-1c4d-4019-97df-effb05ef8a3e",
   "metadata": {},
   "source": [
    "- Python includes several priority queue implementations for\n",
    "you to use.\n",
    "- queue.PriorityQueue stands out from the pack with a nice\n",
    "object-oriented interface and a name that clearly states its intent.\n",
    "It should be your preferred choice.\n",
    "- If you’d like to avoid the locking overhead of queue.PriorityQueue,\n",
    "using the heapq module directly is also a good option."
   ]
  },
  {
   "cell_type": "code",
   "execution_count": null,
   "id": "7a7b74ed-5acc-41b8-ba46-733385cb8d62",
   "metadata": {},
   "outputs": [],
   "source": []
  }
 ],
 "metadata": {
  "kernelspec": {
   "display_name": "Python 3",
   "language": "python",
   "name": "python3"
  },
  "language_info": {
   "codemirror_mode": {
    "name": "ipython",
    "version": 3
   },
   "file_extension": ".py",
   "mimetype": "text/x-python",
   "name": "python",
   "nbconvert_exporter": "python",
   "pygments_lexer": "ipython3",
   "version": "3.7.4"
  }
 },
 "nbformat": 4,
 "nbformat_minor": 5
}
