{
 "cells": [
  {
   "cell_type": "markdown",
   "id": "859d2fb6-6194-4b8b-9fac-da19bc9276e0",
   "metadata": {},
   "source": [
    "# Dictionary Default Values"
   ]
  },
  {
   "cell_type": "markdown",
   "id": "0aa71360-2b89-4938-8723-ca6a14f20e38",
   "metadata": {},
   "source": [
    "- Avoid explicit key in dict checks when testing for membership.\n",
    "- EAFP-style exception handling or using the built-in get()\n",
    "method is preferable.\n",
    "- In some cases, the collections.defaultdict class from the\n",
    "standard library can also be helpful."
   ]
  },
  {
   "cell_type": "markdown",
   "id": "0682978c-9d84-4ca9-b457-09cf55938f61",
   "metadata": {},
   "source": [
    "# Sorting Dictionaries"
   ]
  },
  {
   "cell_type": "code",
   "execution_count": 1,
   "id": "c092f689-6aed-4d76-bdfc-d957f2802424",
   "metadata": {},
   "outputs": [],
   "source": [
    "xs = {'a': 4, 'c': 2, 'b': 3, 'd': 1}"
   ]
  },
  {
   "cell_type": "code",
   "execution_count": 2,
   "id": "409f8b94-9164-43e6-9857-b7e2c0f30723",
   "metadata": {},
   "outputs": [
    {
     "data": {
      "text/plain": [
       "[('a', 4), ('b', 3), ('c', 2), ('d', 1)]"
      ]
     },
     "execution_count": 2,
     "metadata": {},
     "output_type": "execute_result"
    }
   ],
   "source": [
    "sorted(xs.items())"
   ]
  },
  {
   "cell_type": "code",
   "execution_count": 3,
   "id": "e9f1bb90-ad6b-42c5-b042-19affc22983e",
   "metadata": {},
   "outputs": [
    {
     "data": {
      "text/plain": [
       "[('d', 1), ('c', 2), ('b', 3), ('a', 4)]"
      ]
     },
     "execution_count": 3,
     "metadata": {},
     "output_type": "execute_result"
    }
   ],
   "source": [
    "sorted(xs.items(), key=lambda x: x[1])"
   ]
  },
  {
   "cell_type": "code",
   "execution_count": 4,
   "id": "91593324-a4da-4c51-9db7-a19350a9c1b4",
   "metadata": {},
   "outputs": [
    {
     "data": {
      "text/plain": [
       "[('d', 1), ('c', 2), ('b', 3), ('a', 4)]"
      ]
     },
     "execution_count": 4,
     "metadata": {},
     "output_type": "execute_result"
    }
   ],
   "source": [
    "import operator\n",
    "sorted(xs.items(), key=operator.itemgetter(1))"
   ]
  },
  {
   "cell_type": "markdown",
   "id": "3f3a7ae5-df46-4e6a-9417-969f0745f4c1",
   "metadata": {},
   "source": [
    "- When creating sorted “views” of dictionaries and other collections,\n",
    "you can influence the sort order with a key func.\n",
    "- Key funcs are an important concept in Python. The most frequently\n",
    "used ones were even added to the operator module in\n",
    "the standard library."
   ]
  },
  {
   "cell_type": "markdown",
   "id": "ac9840db-6680-46bb-a42c-b7161c1022db",
   "metadata": {},
   "source": [
    "# Emulating Switch/Case Statements With Dicts"
   ]
  },
  {
   "cell_type": "code",
   "execution_count": 6,
   "id": "aff8ef6c-2cd9-4217-a9f8-bf281067f9b9",
   "metadata": {},
   "outputs": [],
   "source": [
    "def dispatch_if(operator, x, y):\n",
    "    if operator == 'add':\n",
    "        return x + y\n",
    "    elif operator == 'sub':\n",
    "        return x - y\n",
    "    elif operator == 'mul':\n",
    "        return x * y\n",
    "    elif operator == 'div':\n",
    "        return x / y"
   ]
  },
  {
   "cell_type": "code",
   "execution_count": 7,
   "id": "f924b64c-183a-446b-bd9f-70842a1422ec",
   "metadata": {},
   "outputs": [],
   "source": [
    "# dictionary-based implementation\n",
    "def dispatch_dict(operator, x, y):\n",
    "    return {\n",
    "        'add': lambda: x + y,\n",
    "        'sub': lambda: x - y,\n",
    "        'mul': lambda: x * y,\n",
    "        'div': lambda: x / y,\n",
    "    }.get(operator, lambda:None)()"
   ]
  },
  {
   "cell_type": "code",
   "execution_count": 8,
   "id": "a03845df-823b-462f-ada3-f3f208d98418",
   "metadata": {},
   "outputs": [
    {
     "data": {
      "text/plain": [
       "16"
      ]
     },
     "execution_count": 8,
     "metadata": {},
     "output_type": "execute_result"
    }
   ],
   "source": [
    "dispatch_dict('mul', 2, 8)"
   ]
  },
  {
   "cell_type": "code",
   "execution_count": 10,
   "id": "9f853ef4-58ec-4656-bd98-c4aa6e6a5f1d",
   "metadata": {},
   "outputs": [],
   "source": [
    "dispatch_dict('unknown', 2, 8)"
   ]
  },
  {
   "cell_type": "markdown",
   "id": "377cd89a-1156-4a29-b3bb-31d3a9c3f64d",
   "metadata": {},
   "source": [
    "- Python doesn’t have a switch/case statement. But in some cases\n",
    "you can avoid long if-chains with a dictionary-based dispatch\n",
    "table.\n",
    "- Once again Python’s first-class functions prove to be a powerful\n",
    "tool. But with great power comes great responsibility."
   ]
  },
  {
   "cell_type": "markdown",
   "id": "9c9b6cee-8ebb-4a05-9f78-d83cd5fcc3d1",
   "metadata": {},
   "source": [
    "# The Craziest Dict Expression"
   ]
  },
  {
   "cell_type": "code",
   "execution_count": 11,
   "id": "74117783-7f88-4835-acb4-861dcded25ac",
   "metadata": {},
   "outputs": [
    {
     "data": {
      "text/plain": [
       "{True: 'maybe'}"
      ]
     },
     "execution_count": 11,
     "metadata": {},
     "output_type": "execute_result"
    }
   ],
   "source": [
    "{True: 'yes', 1: 'no', 1.0: 'maybe'}"
   ]
  },
  {
   "cell_type": "code",
   "execution_count": 12,
   "id": "f5b79f9a-8af8-4098-9371-99d852752843",
   "metadata": {},
   "outputs": [],
   "source": [
    "xs = dict()\n",
    "xs[True] = 'yes'\n",
    "xs[1] = 'no'\n",
    "xs[1.0] = 'maybe'"
   ]
  },
  {
   "cell_type": "code",
   "execution_count": 13,
   "id": "0a1f62b6-9bbb-4e4b-8c74-9fa08faa203f",
   "metadata": {},
   "outputs": [
    {
     "data": {
      "text/plain": [
       "{True: 'maybe'}"
      ]
     },
     "execution_count": 13,
     "metadata": {},
     "output_type": "execute_result"
    }
   ],
   "source": [
    "xs"
   ]
  },
  {
   "cell_type": "code",
   "execution_count": 14,
   "id": "f927bd0f-c709-473c-bd7b-135636e7e350",
   "metadata": {},
   "outputs": [
    {
     "data": {
      "text/plain": [
       "True"
      ]
     },
     "execution_count": 14,
     "metadata": {},
     "output_type": "execute_result"
    }
   ],
   "source": [
    "True == 1 == 1.0"
   ]
  },
  {
   "cell_type": "markdown",
   "id": "e28b17f0-13a5-4838-a9b9-50edb568f112",
   "metadata": {},
   "source": [
    "The Boolean type is a subtype of the integer type, and\n",
    "Boolean values behave like the values 0 and 1, respectively,\n",
    "in almost all contexts, the exception being that\n",
    "when converted to a string, the strings ‘False’ or ‘True’\n",
    "are returned, respectively.”"
   ]
  },
  {
   "cell_type": "code",
   "execution_count": 15,
   "id": "184a7b2d-303b-48dd-91c1-cf3a5462fcb6",
   "metadata": {},
   "outputs": [
    {
     "data": {
      "text/plain": [
       "{1.0: 'yes'}"
      ]
     },
     "execution_count": 15,
     "metadata": {},
     "output_type": "execute_result"
    }
   ],
   "source": [
    "ys = {1.0: 'no'}\n",
    "ys[True] = 'yes'\n",
    "ys"
   ]
  },
  {
   "cell_type": "markdown",
   "id": "d9fc65cd-420d-4852-a9f8-8b01d80f902b",
   "metadata": {},
   "source": [
    "Python dictionaries are backed by a hash table data structure.\n",
    "\n",
    "If two keys have the same hash value, that’s called a hash collision,\n",
    "and it’s a special case that the hash table’s algorithms for inserting\n",
    "and finding elements need to handle"
   ]
  },
  {
   "cell_type": "code",
   "execution_count": 16,
   "id": "6652e53a-16d8-453e-9e01-c6ca16e4aa52",
   "metadata": {},
   "outputs": [],
   "source": [
    "class AlwaysEquals:\n",
    "    def __eq__(self, other):\n",
    "        return True\n",
    "    # id() returns the address of the object in memory, which is guaranteed to be unique.\n",
    "    def __hash__(self):\n",
    "        return id(self)"
   ]
  },
  {
   "cell_type": "code",
   "execution_count": 22,
   "id": "7e54451a-78f5-4784-a872-aef7fbb54eaa",
   "metadata": {},
   "outputs": [
    {
     "data": {
      "text/plain": [
       "True"
      ]
     },
     "execution_count": 22,
     "metadata": {},
     "output_type": "execute_result"
    }
   ],
   "source": [
    "AlwaysEquals() == 1"
   ]
  },
  {
   "cell_type": "code",
   "execution_count": 23,
   "id": "ee5ee938-9079-472b-87c8-d340295cdeb3",
   "metadata": {},
   "outputs": [
    {
     "data": {
      "text/plain": [
       "True"
      ]
     },
     "execution_count": 23,
     "metadata": {},
     "output_type": "execute_result"
    }
   ],
   "source": [
    "AlwaysEquals() == \"mnnn\""
   ]
  },
  {
   "cell_type": "code",
   "execution_count": 18,
   "id": "323ca146-7c4d-4f06-a4a9-9f9f19c29c13",
   "metadata": {},
   "outputs": [
    {
     "data": {
      "text/plain": [
       "4530682832"
      ]
     },
     "execution_count": 18,
     "metadata": {},
     "output_type": "execute_result"
    }
   ],
   "source": [
    "hash(AlwaysEquals())"
   ]
  },
  {
   "cell_type": "code",
   "execution_count": 19,
   "id": "a822f798-48aa-4a7d-87ef-0d25562cc7ba",
   "metadata": {},
   "outputs": [
    {
     "data": {
      "text/plain": [
       "4531960720"
      ]
     },
     "execution_count": 19,
     "metadata": {},
     "output_type": "execute_result"
    }
   ],
   "source": [
    "hash(AlwaysEquals())"
   ]
  },
  {
   "cell_type": "code",
   "execution_count": 20,
   "id": "3430ba58-430b-48f5-8799-37cf0fa579e8",
   "metadata": {},
   "outputs": [
    {
     "data": {
      "text/plain": [
       "4531958352"
      ]
     },
     "execution_count": 20,
     "metadata": {},
     "output_type": "execute_result"
    }
   ],
   "source": [
    "hash(AlwaysEquals())"
   ]
  },
  {
   "cell_type": "code",
   "execution_count": 17,
   "id": "b3b68c2f-acb6-496d-8295-6ee68d7c7966",
   "metadata": {},
   "outputs": [
    {
     "data": {
      "text/plain": [
       "{<__main__.AlwaysEquals at 0x10d698d10>: 'yes',\n",
       " <__main__.AlwaysEquals at 0x10d6981d0>: 'no'}"
      ]
     },
     "execution_count": 17,
     "metadata": {},
     "output_type": "execute_result"
    }
   ],
   "source": [
    "{AlwaysEquals(): 'yes', AlwaysEquals(): 'no'}"
   ]
  },
  {
   "cell_type": "code",
   "execution_count": 21,
   "id": "7c1abdf3-e59b-4de7-9894-be5002f4e34e",
   "metadata": {},
   "outputs": [],
   "source": [
    "class SameHash:\n",
    "    def __hash__(self):\n",
    "        return 1"
   ]
  },
  {
   "cell_type": "code",
   "execution_count": 24,
   "id": "3abe74ab-f558-40a8-bf8e-6190e4c8fbed",
   "metadata": {},
   "outputs": [],
   "source": [
    "a = SameHash()\n",
    "b = SameHash()"
   ]
  },
  {
   "cell_type": "code",
   "execution_count": 25,
   "id": "3060a2c6-8bf3-4f22-90df-04f1bfd81f9b",
   "metadata": {},
   "outputs": [
    {
     "data": {
      "text/plain": [
       "False"
      ]
     },
     "execution_count": 25,
     "metadata": {},
     "output_type": "execute_result"
    }
   ],
   "source": [
    "a == b"
   ]
  },
  {
   "cell_type": "code",
   "execution_count": 26,
   "id": "237eacdb-9641-4c84-b5c6-2f76497049eb",
   "metadata": {},
   "outputs": [
    {
     "data": {
      "text/plain": [
       "(4524982096, 4524980944)"
      ]
     },
     "execution_count": 26,
     "metadata": {},
     "output_type": "execute_result"
    }
   ],
   "source": [
    "id(a), id(b)"
   ]
  },
  {
   "cell_type": "code",
   "execution_count": 27,
   "id": "66f35802-83c5-415f-b6c5-122c5d0d3725",
   "metadata": {},
   "outputs": [
    {
     "data": {
      "text/plain": [
       "(1, 1)"
      ]
     },
     "execution_count": 27,
     "metadata": {},
     "output_type": "execute_result"
    }
   ],
   "source": [
    "hash(a), hash(b)"
   ]
  },
  {
   "cell_type": "code",
   "execution_count": 28,
   "id": "580bc741-1616-450a-8b6f-d8a3f3c88f14",
   "metadata": {},
   "outputs": [
    {
     "data": {
      "text/plain": [
       "{<__main__.SameHash at 0x10db5bf50>: 'a',\n",
       " <__main__.SameHash at 0x10db5bad0>: 'b'}"
      ]
     },
     "execution_count": 28,
     "metadata": {},
     "output_type": "execute_result"
    }
   ],
   "source": [
    "{a: 'a', b: 'b'}"
   ]
  },
  {
   "cell_type": "markdown",
   "id": "9d8ac454-5e7e-4219-8ff5-7ab727a9ab75",
   "metadata": {},
   "source": [
    "**Dictionaries check for equality and compare the hash value to determine\n",
    "if two keys are the same.**"
   ]
  },
  {
   "cell_type": "code",
   "execution_count": 29,
   "id": "6e43e83f-492b-420c-b496-7f88287f7644",
   "metadata": {},
   "outputs": [
    {
     "data": {
      "text/plain": [
       "True"
      ]
     },
     "execution_count": 29,
     "metadata": {},
     "output_type": "execute_result"
    }
   ],
   "source": [
    "True == 1 == 1.0"
   ]
  },
  {
   "cell_type": "code",
   "execution_count": 30,
   "id": "a502d4a3-1212-4ae7-9ac2-ad029c69cb8c",
   "metadata": {},
   "outputs": [
    {
     "data": {
      "text/plain": [
       "True"
      ]
     },
     "execution_count": 30,
     "metadata": {},
     "output_type": "execute_result"
    }
   ],
   "source": [
    "1 == 1.0"
   ]
  },
  {
   "cell_type": "code",
   "execution_count": 31,
   "id": "ea8b3a43-d1ba-421d-8ab5-6af6590799c9",
   "metadata": {},
   "outputs": [
    {
     "data": {
      "text/plain": [
       "(1, 1, 1)"
      ]
     },
     "execution_count": 31,
     "metadata": {},
     "output_type": "execute_result"
    }
   ],
   "source": [
    "hash(1), hash(1.0), hash(True)"
   ]
  },
  {
   "cell_type": "markdown",
   "id": "59773b05-678d-4375-a9b6-e8675711902c",
   "metadata": {},
   "source": [
    "- Dictionaries treat keys as identical if their __eq__ comparison\n",
    "result says they’re equal and their hash values are the same.\n",
    "- Unexpected dictionary key collisions can and will lead to surprising\n",
    "results."
   ]
  },
  {
   "cell_type": "markdown",
   "id": "cef81788-3a49-4a7c-b56f-662f4c5230b4",
   "metadata": {},
   "source": [
    "# Ways to Merge Dictionaries"
   ]
  },
  {
   "cell_type": "code",
   "execution_count": 33,
   "id": "b2792dd1-7c60-4a9f-8d32-668b4ddc3515",
   "metadata": {},
   "outputs": [],
   "source": [
    "xs = {'a': 1, 'b': 2}\n",
    "ys = {'b': 3, 'c': 4}"
   ]
  },
  {
   "cell_type": "code",
   "execution_count": 34,
   "id": "05dfdb1c-5798-48e3-9c6f-681362511160",
   "metadata": {},
   "outputs": [],
   "source": [
    "zx = {}\n",
    "zx.update(xs)\n",
    "zx.update(ys)"
   ]
  },
  {
   "cell_type": "code",
   "execution_count": 35,
   "id": "37b9c53f-6f9f-42cc-b41e-8839eb0bd126",
   "metadata": {},
   "outputs": [],
   "source": [
    "def update(dict1, dict2):\n",
    "    for key, value in dict2.items():\n",
    "        dict1[key] = value"
   ]
  },
  {
   "cell_type": "code",
   "execution_count": 37,
   "id": "5c7933a3-fcdb-4391-b565-c8bb0c7d9f4e",
   "metadata": {},
   "outputs": [],
   "source": [
    "update(xs, ys)"
   ]
  },
  {
   "cell_type": "code",
   "execution_count": 38,
   "id": "fc3d52fb-d4a6-406a-9c4d-5c956d132fec",
   "metadata": {},
   "outputs": [
    {
     "data": {
      "text/plain": [
       "{'a': 1, 'b': 3, 'c': 4}"
      ]
     },
     "execution_count": 38,
     "metadata": {},
     "output_type": "execute_result"
    }
   ],
   "source": [
    "xs"
   ]
  },
  {
   "cell_type": "code",
   "execution_count": 39,
   "id": "48e246d8-addc-4588-8102-527fa8bcb359",
   "metadata": {},
   "outputs": [
    {
     "data": {
      "text/plain": [
       "{'b': 3, 'c': 4}"
      ]
     },
     "execution_count": 39,
     "metadata": {},
     "output_type": "execute_result"
    }
   ],
   "source": [
    "ys"
   ]
  },
  {
   "cell_type": "markdown",
   "id": "22b99449-4cf9-4b94-9e9e-d61c4ebdcc19",
   "metadata": {},
   "source": [
    "Keys and values are set in a left-to-right order, so we get the same\n",
    "conflict resolution strategy: the right-hand side takes priority, and\n",
    "a value in ys overrides any existing value under the same key in xs."
   ]
  },
  {
   "cell_type": "code",
   "execution_count": 40,
   "id": "3820f4a1-0240-418e-8da4-415157b28a03",
   "metadata": {},
   "outputs": [],
   "source": [
    "xs = {'a': 1, 'b': 2}\n",
    "ys = {'b': 3, 'c': 4}\n",
    "zs = dict(xs, **ys)"
   ]
  },
  {
   "cell_type": "code",
   "execution_count": 41,
   "id": "3af29224-21c9-4cba-a902-7820c6be9901",
   "metadata": {},
   "outputs": [
    {
     "data": {
      "text/plain": [
       "{'a': 1, 'b': 3, 'c': 4}"
      ]
     },
     "execution_count": 41,
     "metadata": {},
     "output_type": "execute_result"
    }
   ],
   "source": [
    "zs"
   ]
  },
  {
   "cell_type": "markdown",
   "id": "0d294faf-4e91-4074-90b0-5a6af044c02a",
   "metadata": {},
   "source": [
    "# Dictionary Pretty-Printing"
   ]
  },
  {
   "cell_type": "code",
   "execution_count": 44,
   "id": "9ab6ab45-21d5-417e-b67e-e14a49e083ff",
   "metadata": {},
   "outputs": [
    {
     "data": {
      "text/plain": [
       "\"{'a': 23, 'b': 42, 'c': 12648430}\""
      ]
     },
     "execution_count": 44,
     "metadata": {},
     "output_type": "execute_result"
    }
   ],
   "source": [
    "mapping = {'a': 23, 'b': 42, 'c': 0xc0ffee}\n",
    "str(mapping)"
   ]
  },
  {
   "cell_type": "code",
   "execution_count": 47,
   "id": "de64ef59-da66-439e-89c1-0cc156ac7dce",
   "metadata": {},
   "outputs": [
    {
     "name": "stdout",
     "output_type": "stream",
     "text": [
      "{\n",
      "  \"a\": 23,\n",
      "  \"b\": 42,\n",
      "  \"c\": 12648430\n",
      "}\n"
     ]
    }
   ],
   "source": [
    "import json\n",
    "print(json.dumps(mapping, indent=2, sort_keys=True))"
   ]
  },
  {
   "cell_type": "code",
   "execution_count": 48,
   "id": "2c63251f-e6ec-4504-b1a0-579c9d515c96",
   "metadata": {},
   "outputs": [
    {
     "ename": "TypeError",
     "evalue": "keys must be str, int, float, bool or None, not builtin_function_or_method",
     "output_type": "error",
     "traceback": [
      "\u001b[0;31m---------------------------------------------------------------------------\u001b[0m",
      "\u001b[0;31mTypeError\u001b[0m                                 Traceback (most recent call last)",
      "\u001b[0;32m<ipython-input-48-935a4cbe71eb>\u001b[0m in \u001b[0;36m<module>\u001b[0;34m\u001b[0m\n\u001b[0;32m----> 1\u001b[0;31m \u001b[0mjson\u001b[0m\u001b[0;34m.\u001b[0m\u001b[0mdumps\u001b[0m\u001b[0;34m(\u001b[0m\u001b[0;34m{\u001b[0m\u001b[0mall\u001b[0m\u001b[0;34m:\u001b[0m \u001b[0;34m'yup'\u001b[0m\u001b[0;34m}\u001b[0m\u001b[0;34m)\u001b[0m\u001b[0;34m\u001b[0m\u001b[0;34m\u001b[0m\u001b[0m\n\u001b[0m",
      "\u001b[0;32m/opt/anaconda3/lib/python3.7/json/__init__.py\u001b[0m in \u001b[0;36mdumps\u001b[0;34m(obj, skipkeys, ensure_ascii, check_circular, allow_nan, cls, indent, separators, default, sort_keys, **kw)\u001b[0m\n\u001b[1;32m    229\u001b[0m         \u001b[0mcls\u001b[0m \u001b[0;32mis\u001b[0m \u001b[0;32mNone\u001b[0m \u001b[0;32mand\u001b[0m \u001b[0mindent\u001b[0m \u001b[0;32mis\u001b[0m \u001b[0;32mNone\u001b[0m \u001b[0;32mand\u001b[0m \u001b[0mseparators\u001b[0m \u001b[0;32mis\u001b[0m \u001b[0;32mNone\u001b[0m \u001b[0;32mand\u001b[0m\u001b[0;34m\u001b[0m\u001b[0;34m\u001b[0m\u001b[0m\n\u001b[1;32m    230\u001b[0m         default is None and not sort_keys and not kw):\n\u001b[0;32m--> 231\u001b[0;31m         \u001b[0;32mreturn\u001b[0m \u001b[0m_default_encoder\u001b[0m\u001b[0;34m.\u001b[0m\u001b[0mencode\u001b[0m\u001b[0;34m(\u001b[0m\u001b[0mobj\u001b[0m\u001b[0;34m)\u001b[0m\u001b[0;34m\u001b[0m\u001b[0;34m\u001b[0m\u001b[0m\n\u001b[0m\u001b[1;32m    232\u001b[0m     \u001b[0;32mif\u001b[0m \u001b[0mcls\u001b[0m \u001b[0;32mis\u001b[0m \u001b[0;32mNone\u001b[0m\u001b[0;34m:\u001b[0m\u001b[0;34m\u001b[0m\u001b[0;34m\u001b[0m\u001b[0m\n\u001b[1;32m    233\u001b[0m         \u001b[0mcls\u001b[0m \u001b[0;34m=\u001b[0m \u001b[0mJSONEncoder\u001b[0m\u001b[0;34m\u001b[0m\u001b[0;34m\u001b[0m\u001b[0m\n",
      "\u001b[0;32m/opt/anaconda3/lib/python3.7/json/encoder.py\u001b[0m in \u001b[0;36mencode\u001b[0;34m(self, o)\u001b[0m\n\u001b[1;32m    197\u001b[0m         \u001b[0;31m# exceptions aren't as detailed.  The list call should be roughly\u001b[0m\u001b[0;34m\u001b[0m\u001b[0;34m\u001b[0m\u001b[0;34m\u001b[0m\u001b[0m\n\u001b[1;32m    198\u001b[0m         \u001b[0;31m# equivalent to the PySequence_Fast that ''.join() would do.\u001b[0m\u001b[0;34m\u001b[0m\u001b[0;34m\u001b[0m\u001b[0;34m\u001b[0m\u001b[0m\n\u001b[0;32m--> 199\u001b[0;31m         \u001b[0mchunks\u001b[0m \u001b[0;34m=\u001b[0m \u001b[0mself\u001b[0m\u001b[0;34m.\u001b[0m\u001b[0miterencode\u001b[0m\u001b[0;34m(\u001b[0m\u001b[0mo\u001b[0m\u001b[0;34m,\u001b[0m \u001b[0m_one_shot\u001b[0m\u001b[0;34m=\u001b[0m\u001b[0;32mTrue\u001b[0m\u001b[0;34m)\u001b[0m\u001b[0;34m\u001b[0m\u001b[0;34m\u001b[0m\u001b[0m\n\u001b[0m\u001b[1;32m    200\u001b[0m         \u001b[0;32mif\u001b[0m \u001b[0;32mnot\u001b[0m \u001b[0misinstance\u001b[0m\u001b[0;34m(\u001b[0m\u001b[0mchunks\u001b[0m\u001b[0;34m,\u001b[0m \u001b[0;34m(\u001b[0m\u001b[0mlist\u001b[0m\u001b[0;34m,\u001b[0m \u001b[0mtuple\u001b[0m\u001b[0;34m)\u001b[0m\u001b[0;34m)\u001b[0m\u001b[0;34m:\u001b[0m\u001b[0;34m\u001b[0m\u001b[0;34m\u001b[0m\u001b[0m\n\u001b[1;32m    201\u001b[0m             \u001b[0mchunks\u001b[0m \u001b[0;34m=\u001b[0m \u001b[0mlist\u001b[0m\u001b[0;34m(\u001b[0m\u001b[0mchunks\u001b[0m\u001b[0;34m)\u001b[0m\u001b[0;34m\u001b[0m\u001b[0;34m\u001b[0m\u001b[0m\n",
      "\u001b[0;32m/opt/anaconda3/lib/python3.7/json/encoder.py\u001b[0m in \u001b[0;36miterencode\u001b[0;34m(self, o, _one_shot)\u001b[0m\n\u001b[1;32m    255\u001b[0m                 \u001b[0mself\u001b[0m\u001b[0;34m.\u001b[0m\u001b[0mkey_separator\u001b[0m\u001b[0;34m,\u001b[0m \u001b[0mself\u001b[0m\u001b[0;34m.\u001b[0m\u001b[0mitem_separator\u001b[0m\u001b[0;34m,\u001b[0m \u001b[0mself\u001b[0m\u001b[0;34m.\u001b[0m\u001b[0msort_keys\u001b[0m\u001b[0;34m,\u001b[0m\u001b[0;34m\u001b[0m\u001b[0;34m\u001b[0m\u001b[0m\n\u001b[1;32m    256\u001b[0m                 self.skipkeys, _one_shot)\n\u001b[0;32m--> 257\u001b[0;31m         \u001b[0;32mreturn\u001b[0m \u001b[0m_iterencode\u001b[0m\u001b[0;34m(\u001b[0m\u001b[0mo\u001b[0m\u001b[0;34m,\u001b[0m \u001b[0;36m0\u001b[0m\u001b[0;34m)\u001b[0m\u001b[0;34m\u001b[0m\u001b[0;34m\u001b[0m\u001b[0m\n\u001b[0m\u001b[1;32m    258\u001b[0m \u001b[0;34m\u001b[0m\u001b[0m\n\u001b[1;32m    259\u001b[0m def _make_iterencode(markers, _default, _encoder, _indent, _floatstr,\n",
      "\u001b[0;31mTypeError\u001b[0m: keys must be str, int, float, bool or None, not builtin_function_or_method"
     ]
    }
   ],
   "source": [
    "json.dumps({all: 'yup'})"
   ]
  },
  {
   "cell_type": "code",
   "execution_count": 49,
   "id": "39bceb71-f290-4155-a517-181ea2fcabd2",
   "metadata": {},
   "outputs": [],
   "source": [
    "mapping['d'] = {1, 2, 3}"
   ]
  },
  {
   "cell_type": "code",
   "execution_count": 51,
   "id": "b20d7fbe-0c78-4c4c-9771-285787952d20",
   "metadata": {},
   "outputs": [
    {
     "ename": "TypeError",
     "evalue": "Object of type set is not JSON serializable",
     "output_type": "error",
     "traceback": [
      "\u001b[0;31m---------------------------------------------------------------------------\u001b[0m",
      "\u001b[0;31mTypeError\u001b[0m                                 Traceback (most recent call last)",
      "\u001b[0;32m<ipython-input-51-edcdd9f83300>\u001b[0m in \u001b[0;36m<module>\u001b[0;34m\u001b[0m\n\u001b[0;32m----> 1\u001b[0;31m \u001b[0mjson\u001b[0m\u001b[0;34m.\u001b[0m\u001b[0mdumps\u001b[0m\u001b[0;34m(\u001b[0m\u001b[0mmapping\u001b[0m\u001b[0;34m)\u001b[0m\u001b[0;34m\u001b[0m\u001b[0;34m\u001b[0m\u001b[0m\n\u001b[0m",
      "\u001b[0;32m/opt/anaconda3/lib/python3.7/json/__init__.py\u001b[0m in \u001b[0;36mdumps\u001b[0;34m(obj, skipkeys, ensure_ascii, check_circular, allow_nan, cls, indent, separators, default, sort_keys, **kw)\u001b[0m\n\u001b[1;32m    229\u001b[0m         \u001b[0mcls\u001b[0m \u001b[0;32mis\u001b[0m \u001b[0;32mNone\u001b[0m \u001b[0;32mand\u001b[0m \u001b[0mindent\u001b[0m \u001b[0;32mis\u001b[0m \u001b[0;32mNone\u001b[0m \u001b[0;32mand\u001b[0m \u001b[0mseparators\u001b[0m \u001b[0;32mis\u001b[0m \u001b[0;32mNone\u001b[0m \u001b[0;32mand\u001b[0m\u001b[0;34m\u001b[0m\u001b[0;34m\u001b[0m\u001b[0m\n\u001b[1;32m    230\u001b[0m         default is None and not sort_keys and not kw):\n\u001b[0;32m--> 231\u001b[0;31m         \u001b[0;32mreturn\u001b[0m \u001b[0m_default_encoder\u001b[0m\u001b[0;34m.\u001b[0m\u001b[0mencode\u001b[0m\u001b[0;34m(\u001b[0m\u001b[0mobj\u001b[0m\u001b[0;34m)\u001b[0m\u001b[0;34m\u001b[0m\u001b[0;34m\u001b[0m\u001b[0m\n\u001b[0m\u001b[1;32m    232\u001b[0m     \u001b[0;32mif\u001b[0m \u001b[0mcls\u001b[0m \u001b[0;32mis\u001b[0m \u001b[0;32mNone\u001b[0m\u001b[0;34m:\u001b[0m\u001b[0;34m\u001b[0m\u001b[0;34m\u001b[0m\u001b[0m\n\u001b[1;32m    233\u001b[0m         \u001b[0mcls\u001b[0m \u001b[0;34m=\u001b[0m \u001b[0mJSONEncoder\u001b[0m\u001b[0;34m\u001b[0m\u001b[0;34m\u001b[0m\u001b[0m\n",
      "\u001b[0;32m/opt/anaconda3/lib/python3.7/json/encoder.py\u001b[0m in \u001b[0;36mencode\u001b[0;34m(self, o)\u001b[0m\n\u001b[1;32m    197\u001b[0m         \u001b[0;31m# exceptions aren't as detailed.  The list call should be roughly\u001b[0m\u001b[0;34m\u001b[0m\u001b[0;34m\u001b[0m\u001b[0;34m\u001b[0m\u001b[0m\n\u001b[1;32m    198\u001b[0m         \u001b[0;31m# equivalent to the PySequence_Fast that ''.join() would do.\u001b[0m\u001b[0;34m\u001b[0m\u001b[0;34m\u001b[0m\u001b[0;34m\u001b[0m\u001b[0m\n\u001b[0;32m--> 199\u001b[0;31m         \u001b[0mchunks\u001b[0m \u001b[0;34m=\u001b[0m \u001b[0mself\u001b[0m\u001b[0;34m.\u001b[0m\u001b[0miterencode\u001b[0m\u001b[0;34m(\u001b[0m\u001b[0mo\u001b[0m\u001b[0;34m,\u001b[0m \u001b[0m_one_shot\u001b[0m\u001b[0;34m=\u001b[0m\u001b[0;32mTrue\u001b[0m\u001b[0;34m)\u001b[0m\u001b[0;34m\u001b[0m\u001b[0;34m\u001b[0m\u001b[0m\n\u001b[0m\u001b[1;32m    200\u001b[0m         \u001b[0;32mif\u001b[0m \u001b[0;32mnot\u001b[0m \u001b[0misinstance\u001b[0m\u001b[0;34m(\u001b[0m\u001b[0mchunks\u001b[0m\u001b[0;34m,\u001b[0m \u001b[0;34m(\u001b[0m\u001b[0mlist\u001b[0m\u001b[0;34m,\u001b[0m \u001b[0mtuple\u001b[0m\u001b[0;34m)\u001b[0m\u001b[0;34m)\u001b[0m\u001b[0;34m:\u001b[0m\u001b[0;34m\u001b[0m\u001b[0;34m\u001b[0m\u001b[0m\n\u001b[1;32m    201\u001b[0m             \u001b[0mchunks\u001b[0m \u001b[0;34m=\u001b[0m \u001b[0mlist\u001b[0m\u001b[0;34m(\u001b[0m\u001b[0mchunks\u001b[0m\u001b[0;34m)\u001b[0m\u001b[0;34m\u001b[0m\u001b[0;34m\u001b[0m\u001b[0m\n",
      "\u001b[0;32m/opt/anaconda3/lib/python3.7/json/encoder.py\u001b[0m in \u001b[0;36miterencode\u001b[0;34m(self, o, _one_shot)\u001b[0m\n\u001b[1;32m    255\u001b[0m                 \u001b[0mself\u001b[0m\u001b[0;34m.\u001b[0m\u001b[0mkey_separator\u001b[0m\u001b[0;34m,\u001b[0m \u001b[0mself\u001b[0m\u001b[0;34m.\u001b[0m\u001b[0mitem_separator\u001b[0m\u001b[0;34m,\u001b[0m \u001b[0mself\u001b[0m\u001b[0;34m.\u001b[0m\u001b[0msort_keys\u001b[0m\u001b[0;34m,\u001b[0m\u001b[0;34m\u001b[0m\u001b[0;34m\u001b[0m\u001b[0m\n\u001b[1;32m    256\u001b[0m                 self.skipkeys, _one_shot)\n\u001b[0;32m--> 257\u001b[0;31m         \u001b[0;32mreturn\u001b[0m \u001b[0m_iterencode\u001b[0m\u001b[0;34m(\u001b[0m\u001b[0mo\u001b[0m\u001b[0;34m,\u001b[0m \u001b[0;36m0\u001b[0m\u001b[0;34m)\u001b[0m\u001b[0;34m\u001b[0m\u001b[0;34m\u001b[0m\u001b[0m\n\u001b[0m\u001b[1;32m    258\u001b[0m \u001b[0;34m\u001b[0m\u001b[0m\n\u001b[1;32m    259\u001b[0m def _make_iterencode(markers, _default, _encoder, _indent, _floatstr,\n",
      "\u001b[0;32m/opt/anaconda3/lib/python3.7/json/encoder.py\u001b[0m in \u001b[0;36mdefault\u001b[0;34m(self, o)\u001b[0m\n\u001b[1;32m    177\u001b[0m \u001b[0;34m\u001b[0m\u001b[0m\n\u001b[1;32m    178\u001b[0m         \"\"\"\n\u001b[0;32m--> 179\u001b[0;31m         raise TypeError(f'Object of type {o.__class__.__name__} '\n\u001b[0m\u001b[1;32m    180\u001b[0m                         f'is not JSON serializable')\n\u001b[1;32m    181\u001b[0m \u001b[0;34m\u001b[0m\u001b[0m\n",
      "\u001b[0;31mTypeError\u001b[0m: Object of type set is not JSON serializable"
     ]
    }
   ],
   "source": [
    "json.dumps(mapping)"
   ]
  },
  {
   "cell_type": "code",
   "execution_count": null,
   "id": "8b3dc498-cf12-4754-964c-2c2638007819",
   "metadata": {},
   "outputs": [],
   "source": []
  }
 ],
 "metadata": {
  "kernelspec": {
   "display_name": "Python 3",
   "language": "python",
   "name": "python3"
  },
  "language_info": {
   "codemirror_mode": {
    "name": "ipython",
    "version": 3
   },
   "file_extension": ".py",
   "mimetype": "text/x-python",
   "name": "python",
   "nbconvert_exporter": "python",
   "pygments_lexer": "ipython3",
   "version": "3.7.4"
  }
 },
 "nbformat": 4,
 "nbformat_minor": 5
}
