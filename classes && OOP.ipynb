{
 "cells": [
  {
   "cell_type": "markdown",
   "id": "5949ae99-ec21-4420-b0fe-1ec83c986e40",
   "metadata": {},
   "source": [
    "# Object Comparisions: \"is\" vs \"==\""
   ]
  },
  {
   "cell_type": "markdown",
   "id": "95960a8f-d0ba-440d-8a31-e76584d8ed51",
   "metadata": {},
   "source": [
    "- The == operator compares by checking for equality. An == expression evaluates to True if the objects referred to by the variables are equal (have the same contents).\n",
    "- The is operator, however, compares identities. An is expression evaluates to True if two variables point to the same (identical) object."
   ]
  },
  {
   "cell_type": "code",
   "execution_count": 1,
   "id": "e857bf7b-5ba4-4ad9-a1e2-b789514601d8",
   "metadata": {},
   "outputs": [],
   "source": [
    "a = [1, 2, 3]\n",
    "b = a"
   ]
  },
  {
   "cell_type": "code",
   "execution_count": 2,
   "id": "df507843-fafd-4f09-9eb6-502ee46e601a",
   "metadata": {},
   "outputs": [
    {
     "data": {
      "text/plain": [
       "True"
      ]
     },
     "execution_count": 2,
     "metadata": {},
     "output_type": "execute_result"
    }
   ],
   "source": [
    "a == b"
   ]
  },
  {
   "cell_type": "code",
   "execution_count": 5,
   "id": "2a045b88-a6dd-4607-a1d1-0aa90c663129",
   "metadata": {},
   "outputs": [
    {
     "data": {
      "text/plain": [
       "True"
      ]
     },
     "execution_count": 5,
     "metadata": {},
     "output_type": "execute_result"
    }
   ],
   "source": [
    "# This confirms that both variables are in fact pointing to one list object:\n",
    "a is b"
   ]
  },
  {
   "cell_type": "code",
   "execution_count": 4,
   "id": "047abcb7-0b4a-4c3c-8c80-a0717cce76c7",
   "metadata": {},
   "outputs": [
    {
     "data": {
      "text/plain": [
       "(4513577312, 4513577312)"
      ]
     },
     "execution_count": 4,
     "metadata": {},
     "output_type": "execute_result"
    }
   ],
   "source": [
    "id(a), id(b)"
   ]
  },
  {
   "cell_type": "code",
   "execution_count": 6,
   "id": "f09ce0fb-97f7-4b0b-96f0-c7a46221fb52",
   "metadata": {},
   "outputs": [
    {
     "data": {
      "text/plain": [
       "True"
      ]
     },
     "execution_count": 6,
     "metadata": {},
     "output_type": "execute_result"
    }
   ],
   "source": [
    "c = list(a)\n",
    "a == c"
   ]
  },
  {
   "cell_type": "code",
   "execution_count": 8,
   "id": "10f7bb39-dd54-423f-a4ba-f47e3fbbae16",
   "metadata": {},
   "outputs": [
    {
     "data": {
      "text/plain": [
       "False"
      ]
     },
     "execution_count": 8,
     "metadata": {},
     "output_type": "execute_result"
    }
   ],
   "source": [
    "# that c and a are pointing to two different objects\n",
    "a is c"
   ]
  },
  {
   "cell_type": "code",
   "execution_count": 9,
   "id": "d9232d32-9433-439d-9296-1faba4b0eefa",
   "metadata": {},
   "outputs": [
    {
     "data": {
      "text/plain": [
       "(4513577312, 4513524704)"
      ]
     },
     "execution_count": 9,
     "metadata": {},
     "output_type": "execute_result"
    }
   ],
   "source": [
    "id(a), id(c)"
   ]
  },
  {
   "cell_type": "markdown",
   "id": "1ab9966b-9208-438b-a480-c819ebdaa03f",
   "metadata": {},
   "source": [
    "# String Conversion (Every Class Needs a \\_\\_repr__)"
   ]
  },
  {
   "cell_type": "code",
   "execution_count": 10,
   "id": "f46d04d9-f0bc-4416-9cb0-726f9fda43f3",
   "metadata": {},
   "outputs": [],
   "source": [
    "class Car:\n",
    "    def __init__(self, color, mileage):\n",
    "        self.color = color\n",
    "        self.mileage = mileage"
   ]
  },
  {
   "cell_type": "code",
   "execution_count": 12,
   "id": "798e58af-7847-42e7-bd4f-1dd4a942146c",
   "metadata": {},
   "outputs": [
    {
     "name": "stdout",
     "output_type": "stream",
     "text": [
      "<__main__.Car object at 0x10d0b0d50>\n"
     ]
    }
   ],
   "source": [
    "car = Car(\"black\", 100)\n",
    "print(car)"
   ]
  },
  {
   "cell_type": "code",
   "execution_count": 13,
   "id": "0a3b73f3-40e1-41d9-901c-ccb14774c0c9",
   "metadata": {},
   "outputs": [
    {
     "data": {
      "text/plain": [
       "<__main__.Car at 0x10d0b0d50>"
      ]
     },
     "execution_count": 13,
     "metadata": {},
     "output_type": "execute_result"
    }
   ],
   "source": [
    "car"
   ]
  },
  {
   "cell_type": "markdown",
   "id": "2f16101d-fc11-43cf-b520-c92529ad1084",
   "metadata": {},
   "source": [
    "\\_\\_str__ and \\_\\_repr__ “dunder” methods.  They are the Pythonic way to control how objects are converted\n",
    "to strings in different situations"
   ]
  },
  {
   "cell_type": "code",
   "execution_count": 15,
   "id": "dac3a592-4303-41d5-bcf8-f729a4d2e94b",
   "metadata": {},
   "outputs": [],
   "source": [
    "# __str__ method\n",
    "class Car:\n",
    "    def __init__(self, color, mileage):\n",
    "        self.color = color\n",
    "        self.mileage = mileage\n",
    "        \n",
    "    def __str__(self):\n",
    "        return f\"{self.color} car\""
   ]
  },
  {
   "cell_type": "code",
   "execution_count": 16,
   "id": "087e77b0-7bec-4bb2-9189-e2f2de1571ff",
   "metadata": {},
   "outputs": [
    {
     "name": "stdout",
     "output_type": "stream",
     "text": [
      "black car\n"
     ]
    }
   ],
   "source": [
    "car = Car(\"black\", 100)\n",
    "print(car)"
   ]
  },
  {
   "cell_type": "code",
   "execution_count": 17,
   "id": "28d8b69b-7630-4ba6-a85d-67a4232c116c",
   "metadata": {},
   "outputs": [
    {
     "data": {
      "text/plain": [
       "<__main__.Car at 0x10d114450>"
      ]
     },
     "execution_count": 17,
     "metadata": {},
     "output_type": "execute_result"
    }
   ],
   "source": [
    "car"
   ]
  },
  {
   "cell_type": "markdown",
   "id": "c64a67f4-9d02-4d0e-856a-29f1beee550f",
   "metadata": {},
   "source": [
    "\\_\\_str__ is one of Python’s “dunder” (double-underscore) methods\n",
    "and gets called when you try to convert an object into a string through\n",
    "the various means that are available:"
   ]
  },
  {
   "cell_type": "code",
   "execution_count": 18,
   "id": "7713d9a7-9f16-4ba3-8676-c03de763806f",
   "metadata": {},
   "outputs": [
    {
     "data": {
      "text/plain": [
       "'black car'"
      ]
     },
     "execution_count": 18,
     "metadata": {},
     "output_type": "execute_result"
    }
   ],
   "source": [
    "str(car)"
   ]
  },
  {
   "cell_type": "code",
   "execution_count": 19,
   "id": "c8fd0734-ff14-41cd-95a1-5b9a193c8f46",
   "metadata": {},
   "outputs": [
    {
     "data": {
      "text/plain": [
       "'black car'"
      ]
     },
     "execution_count": 19,
     "metadata": {},
     "output_type": "execute_result"
    }
   ],
   "source": [
    "f\"{car}\""
   ]
  },
  {
   "cell_type": "code",
   "execution_count": 20,
   "id": "58dffb06-f4b3-48b8-8b3c-d56afe630637",
   "metadata": {},
   "outputs": [],
   "source": [
    "# __repr__ method\n",
    "class Car:\n",
    "    def __init__(self, color, mileage):\n",
    "        self.color = color\n",
    "        self.mileage = mileage\n",
    "        \n",
    "    def __str__(self):\n",
    "        return \"__str__ for car\"\n",
    "    \n",
    "    def __repr__(self):\n",
    "        return \"__repr__ for car\""
   ]
  },
  {
   "cell_type": "code",
   "execution_count": 21,
   "id": "817d793b-7334-4feb-b2a7-d4e8c4c6e069",
   "metadata": {},
   "outputs": [],
   "source": [
    "car = Car(\"black\", 100)"
   ]
  },
  {
   "cell_type": "code",
   "execution_count": 22,
   "id": "f303807a-cb0b-4e98-9cd4-f04fcc978202",
   "metadata": {},
   "outputs": [
    {
     "data": {
      "text/plain": [
       "'__str__ for car'"
      ]
     },
     "execution_count": 22,
     "metadata": {},
     "output_type": "execute_result"
    }
   ],
   "source": [
    "str(car)"
   ]
  },
  {
   "cell_type": "code",
   "execution_count": 23,
   "id": "90e55c1c-c4ce-4020-8f66-751b42335d07",
   "metadata": {},
   "outputs": [
    {
     "data": {
      "text/plain": [
       "'__repr__ for car'"
      ]
     },
     "execution_count": 23,
     "metadata": {},
     "output_type": "execute_result"
    }
   ],
   "source": [
    "repr(car)"
   ]
  },
  {
   "cell_type": "code",
   "execution_count": 24,
   "id": "1cdb3ac7-1169-4e8e-aac3-7bd14062e5c0",
   "metadata": {},
   "outputs": [
    {
     "data": {
      "text/plain": [
       "'[__repr__ for car]'"
      ]
     },
     "execution_count": 24,
     "metadata": {},
     "output_type": "execute_result"
    }
   ],
   "source": [
    "str([car])"
   ]
  },
  {
   "cell_type": "markdown",
   "id": "ac809e4d-c53f-42cf-b9f3-5087d00c2871",
   "metadata": {},
   "source": [
    "**With \\_\\_repr__, the idea is that its result should be, above all, unambiguous.\n",
    "The resulting string is intended more as a debugging aid for\n",
    "developers.**"
   ]
  },
  {
   "cell_type": "markdown",
   "id": "2bf8c218-40fb-4fd1-9c48-6be529e1892c",
   "metadata": {},
   "source": [
    "If you don’t add a \\_\\_str__ method, Python falls back on the result\n",
    "of \\_\\_repr__ when looking for \\_\\_str__. Therefore, I recommend that\n",
    "you always add at least a \\_\\_repr__ method to your classes. This will\n",
    "guarantee a useful string conversion result in almost all cases, with a\n",
    "minimum of implementation work."
   ]
  },
  {
   "cell_type": "markdown",
   "id": "df0c6834-24bf-4a5d-aa6c-bd1a6ef97faf",
   "metadata": {},
   "source": [
    "- You can control to-string conversion in your own classes using\n",
    "the \\_\\_str__ and \\_\\_repr__ “dunder” methods.\n",
    "- The result of \\_\\_str__ should be readable. The result of\n",
    "_\\\\_repr__ should be unambiguous.\n",
    "- Always add a \\_\\_repr__ to your classes. The default implementation\n",
    "for \\_\\_str__ just calls \\_\\_repr__."
   ]
  },
  {
   "cell_type": "markdown",
   "id": "2c5bfa38-a67e-46c4-a644-fd86fd3ffa98",
   "metadata": {},
   "source": [
    "# Defining Your Own Exception Classes"
   ]
  },
  {
   "cell_type": "code",
   "execution_count": 25,
   "id": "e8e68efa-e9c5-4edf-a0ad-0806c871a718",
   "metadata": {},
   "outputs": [],
   "source": [
    "def validate(name):\n",
    "    if len(name) < 10:\n",
    "        raise ValueError"
   ]
  },
  {
   "cell_type": "code",
   "execution_count": 26,
   "id": "cdec19ec-228e-4957-a675-1cbac507893f",
   "metadata": {},
   "outputs": [
    {
     "ename": "ValueError",
     "evalue": "",
     "output_type": "error",
     "traceback": [
      "\u001b[0;31m---------------------------------------------------------------------------\u001b[0m",
      "\u001b[0;31mValueError\u001b[0m                                Traceback (most recent call last)",
      "\u001b[0;32m<ipython-input-26-6f5ca4297125>\u001b[0m in \u001b[0;36m<module>\u001b[0;34m\u001b[0m\n\u001b[0;32m----> 1\u001b[0;31m \u001b[0mvalidate\u001b[0m\u001b[0;34m(\u001b[0m\u001b[0;34m\"joe\"\u001b[0m\u001b[0;34m)\u001b[0m\u001b[0;34m\u001b[0m\u001b[0;34m\u001b[0m\u001b[0m\n\u001b[0m",
      "\u001b[0;32m<ipython-input-25-febc53edeb52>\u001b[0m in \u001b[0;36mvalidate\u001b[0;34m(name)\u001b[0m\n\u001b[1;32m      1\u001b[0m \u001b[0;32mdef\u001b[0m \u001b[0mvalidate\u001b[0m\u001b[0;34m(\u001b[0m\u001b[0mname\u001b[0m\u001b[0;34m)\u001b[0m\u001b[0;34m:\u001b[0m\u001b[0;34m\u001b[0m\u001b[0;34m\u001b[0m\u001b[0m\n\u001b[1;32m      2\u001b[0m     \u001b[0;32mif\u001b[0m \u001b[0mlen\u001b[0m\u001b[0;34m(\u001b[0m\u001b[0mname\u001b[0m\u001b[0;34m)\u001b[0m \u001b[0;34m<\u001b[0m \u001b[0;36m10\u001b[0m\u001b[0;34m:\u001b[0m\u001b[0;34m\u001b[0m\u001b[0;34m\u001b[0m\u001b[0m\n\u001b[0;32m----> 3\u001b[0;31m         \u001b[0;32mraise\u001b[0m \u001b[0mValueError\u001b[0m\u001b[0;34m\u001b[0m\u001b[0;34m\u001b[0m\u001b[0m\n\u001b[0m",
      "\u001b[0;31mValueError\u001b[0m: "
     ]
    }
   ],
   "source": [
    "validate(\"joe\")"
   ]
  },
  {
   "cell_type": "code",
   "execution_count": 27,
   "id": "9509f872-c5a7-400d-94a3-1608da20ee88",
   "metadata": {},
   "outputs": [],
   "source": [
    "class NameTooShortError(ValueError):\n",
    "    pass\n",
    "\n",
    "def validate(name):\n",
    "    if len(name) < 10:\n",
    "        raise NameTooShortError(name)"
   ]
  },
  {
   "cell_type": "code",
   "execution_count": 28,
   "id": "4f43222b-6cb7-43aa-864d-0e9bc7aed29a",
   "metadata": {},
   "outputs": [
    {
     "ename": "NameTooShortError",
     "evalue": "joe",
     "output_type": "error",
     "traceback": [
      "\u001b[0;31m---------------------------------------------------------------------------\u001b[0m",
      "\u001b[0;31mNameTooShortError\u001b[0m                         Traceback (most recent call last)",
      "\u001b[0;32m<ipython-input-28-6f5ca4297125>\u001b[0m in \u001b[0;36m<module>\u001b[0;34m\u001b[0m\n\u001b[0;32m----> 1\u001b[0;31m \u001b[0mvalidate\u001b[0m\u001b[0;34m(\u001b[0m\u001b[0;34m\"joe\"\u001b[0m\u001b[0;34m)\u001b[0m\u001b[0;34m\u001b[0m\u001b[0;34m\u001b[0m\u001b[0m\n\u001b[0m",
      "\u001b[0;32m<ipython-input-27-4ee2fd66279c>\u001b[0m in \u001b[0;36mvalidate\u001b[0;34m(name)\u001b[0m\n\u001b[1;32m      4\u001b[0m \u001b[0;32mdef\u001b[0m \u001b[0mvalidate\u001b[0m\u001b[0;34m(\u001b[0m\u001b[0mname\u001b[0m\u001b[0;34m)\u001b[0m\u001b[0;34m:\u001b[0m\u001b[0;34m\u001b[0m\u001b[0;34m\u001b[0m\u001b[0m\n\u001b[1;32m      5\u001b[0m     \u001b[0;32mif\u001b[0m \u001b[0mlen\u001b[0m\u001b[0;34m(\u001b[0m\u001b[0mname\u001b[0m\u001b[0;34m)\u001b[0m \u001b[0;34m<\u001b[0m \u001b[0;36m10\u001b[0m\u001b[0;34m:\u001b[0m\u001b[0;34m\u001b[0m\u001b[0;34m\u001b[0m\u001b[0m\n\u001b[0;32m----> 6\u001b[0;31m         \u001b[0;32mraise\u001b[0m \u001b[0mNameTooShortError\u001b[0m\u001b[0;34m(\u001b[0m\u001b[0mname\u001b[0m\u001b[0;34m)\u001b[0m\u001b[0;34m\u001b[0m\u001b[0;34m\u001b[0m\u001b[0m\n\u001b[0m",
      "\u001b[0;31mNameTooShortError\u001b[0m: joe"
     ]
    }
   ],
   "source": [
    "validate(\"joe\")"
   ]
  },
  {
   "cell_type": "markdown",
   "id": "0495c8e3-dcc5-4ae8-8e03-8a994fdca364",
   "metadata": {},
   "source": [
    "Now we have a “self-documenting” NameTooShortError exception\n",
    "type that extends the built-in ValueError class. Generally, you’ll want\n",
    "to either derive your custom exceptions from the root Exception\n",
    "class or the other built-in Python exceptions like ValueError or\n",
    "TypeError—whicever feels appropriate."
   ]
  },
  {
   "cell_type": "code",
   "execution_count": 30,
   "id": "b7a20a01-c61e-40ac-9fc3-61bfab6b72c2",
   "metadata": {},
   "outputs": [],
   "source": [
    "class BaseValidationError(ValueError):\n",
    "    pass\n",
    "\n",
    "class NameTooShoetError(ValueError):\n",
    "    pass\n",
    "\n",
    "class NameTooLongError(BaseValidationError):\n",
    "    pass"
   ]
  },
  {
   "cell_type": "markdown",
   "id": "4f1c027e-d912-4521-84e7-b0edb979bffe",
   "metadata": {},
   "source": [
    "- Defining your own exception types will state your code’s intent\n",
    "more clearly and make it easier to debug.\n",
    "- Derive your custom exceptions from Python’s built-in\n",
    "Exception class or from more specific exception classes\n",
    "like ValueError or KeyError.\n",
    "- You can use inheritance to define logically grouped exception\n",
    "hierarchies."
   ]
  },
  {
   "cell_type": "markdown",
   "id": "c33463a8-2bcd-426b-ba7c-d825a30a553a",
   "metadata": {},
   "source": [
    "# Cloning Objects for Fun and Profit"
   ]
  },
  {
   "cell_type": "markdown",
   "id": "13a6c2fa-6285-443f-b4f5-9dd5f8358eb4",
   "metadata": {},
   "source": [
    "Assignment statements in Python do not create copies of objects, they\n",
    "only bind names to an object. For immutable objects, that usually\n",
    "doesn’t make a difference."
   ]
  },
  {
   "cell_type": "markdown",
   "id": "555a6672-0703-4d75-bf85-a2a86cac30d9",
   "metadata": {},
   "source": [
    "- A shallow copy means constructing a new collection object and then\n",
    "populating it with references to the child objects found in the original.\n",
    "In essence, a shallow copy is only one level deep. The copying process\n",
    "does not recurse and therefore won’t create copies of the child objects\n",
    "themselves.\n",
    "- A deep copy makes the copying process recursive. It means first constructing\n",
    "a new collection object and then recursively populating it\n",
    "with copies of the child objects found in the original."
   ]
  },
  {
   "cell_type": "code",
   "execution_count": 32,
   "id": "98a2c0fc-c2e1-4d31-87a2-66b0d95465ce",
   "metadata": {},
   "outputs": [],
   "source": [
    "original_list = [1,2,3]\n",
    "original_dict = {\"a\":1}\n",
    "original_set = {1,2}\n",
    "\n",
    "# shallow copy\n",
    "# calling their factory functions on an existing collection, \n",
    "new_list = list(original_list)\n",
    "new_dict = dict(original_dict)\n",
    "new_set = set(original_set)"
   ]
  },
  {
   "cell_type": "code",
   "execution_count": 33,
   "id": "91fe6ba7-4209-4290-817a-7fb208338f99",
   "metadata": {},
   "outputs": [],
   "source": [
    "# shallow copy examples\n",
    "\n",
    "xs = [[1, 2, 3], [4, 5, 6], [7, 8, 9]]\n",
    "ys = list(xs) # make a shallow copy"
   ]
  },
  {
   "cell_type": "code",
   "execution_count": 34,
   "id": "755267cc-cd1a-43d4-b323-acbb8ecde947",
   "metadata": {},
   "outputs": [
    {
     "name": "stdout",
     "output_type": "stream",
     "text": [
      "[[1, 2, 3], [4, 5, 6], [7, 8, 9], 'a']\n",
      "[[1, 2, 3], [4, 5, 6], [7, 8, 9]]\n"
     ]
    }
   ],
   "source": [
    "xs.append(\"a\")\n",
    "\n",
    "print(xs)\n",
    "print(ys)"
   ]
  },
  {
   "cell_type": "code",
   "execution_count": 36,
   "id": "b21f91fd-55a7-4012-afc7-12a1ab97e68e",
   "metadata": {},
   "outputs": [
    {
     "name": "stdout",
     "output_type": "stream",
     "text": [
      "[[1, 'b', 3], [4, 5, 6], [7, 8, 9], 'a']\n",
      "[[1, 'b', 3], [4, 5, 6], [7, 8, 9]]\n"
     ]
    }
   ],
   "source": [
    "xs[0][1] = \"b\"\n",
    "\n",
    "# this happened because we had only created a shallow copy of the original list\n",
    "print(xs)\n",
    "print(ys)"
   ]
  },
  {
   "cell_type": "code",
   "execution_count": 37,
   "id": "23cbdbaa-0e19-4d3f-bf50-5c7a6eb2025a",
   "metadata": {},
   "outputs": [
    {
     "name": "stdout",
     "output_type": "stream",
     "text": [
      "[[1, 'b', 3], [4, 5, 6], [7, 8, 9]]\n",
      "[[1, 2, 3], [4, 5, 6], [7, 8, 9]]\n"
     ]
    }
   ],
   "source": [
    "# deep copy examples\n",
    "import copy\n",
    "\n",
    "xs = [[1, 2, 3], [4, 5, 6], [7, 8, 9]]\n",
    "ys = copy.deepcopy(xs) # copy.copy() function creates shallow copies of objects.\n",
    "\n",
    "xs[0][1] = 'b'\n",
    "print(xs)\n",
    "print(ys)"
   ]
  },
  {
   "cell_type": "markdown",
   "id": "fa2ae734-cdff-43db-b747-3a5c0ba37a07",
   "metadata": {},
   "source": [
    "objects can control how they’re copied by defining the special methods \\_\\_copy__() and\n",
    "\\_\\_deepcopy__() on them."
   ]
  },
  {
   "cell_type": "code",
   "execution_count": 43,
   "id": "71ec5286-6f3a-4452-a93d-5e7ecc864fe2",
   "metadata": {},
   "outputs": [],
   "source": [
    "class Point:\n",
    "    def __init__(self, x, y):\n",
    "        self.x = x\n",
    "        self.y = y\n",
    "    def __repr__(self):\n",
    "        return f\"Point({self.x},{self.y})\""
   ]
  },
  {
   "cell_type": "code",
   "execution_count": 44,
   "id": "edc89bdf-343c-4989-810e-6dd8c2a44a91",
   "metadata": {},
   "outputs": [],
   "source": [
    "p1 = Point(1, 2)\n",
    "p2 = copy.copy(p1)"
   ]
  },
  {
   "cell_type": "code",
   "execution_count": 45,
   "id": "1c094dd0-122f-4ed7-821e-15542076b161",
   "metadata": {},
   "outputs": [
    {
     "data": {
      "text/plain": [
       "(False, False)"
      ]
     },
     "execution_count": 45,
     "metadata": {},
     "output_type": "execute_result"
    }
   ],
   "source": [
    "p1 is p2, p1 == p2"
   ]
  },
  {
   "cell_type": "code",
   "execution_count": 46,
   "id": "192c1d54-1ea5-40a0-ac7a-16a9a5389d46",
   "metadata": {},
   "outputs": [
    {
     "name": "stdout",
     "output_type": "stream",
     "text": [
      "Point(3,2)\n",
      "Point(1,2)\n"
     ]
    }
   ],
   "source": [
    "p1.x = 3\n",
    "\n",
    "print(p1)\n",
    "print(p2)"
   ]
  },
  {
   "cell_type": "code",
   "execution_count": 48,
   "id": "1f1a5ebf-4764-403d-b367-43d27e333fa8",
   "metadata": {},
   "outputs": [],
   "source": [
    "class Rectangle:\n",
    "    def __init__(self, topleft, bottomright):\n",
    "        self.topleft = topleft\n",
    "        self.bottomright = bottomright\n",
    "    def __repr__(self):\n",
    "        return (f'Rectangle({self.topleft!r}, 'f'{self.bottomright!r})')"
   ]
  },
  {
   "cell_type": "code",
   "execution_count": 49,
   "id": "25a1c52b-cf1f-4f0d-9813-468778826c67",
   "metadata": {},
   "outputs": [],
   "source": [
    "r1 = Rectangle(Point(1,2), Point(2,3))\n",
    "r2 = copy.copy(r1)\n",
    "r3 = copy.deepcopy(r2)"
   ]
  },
  {
   "cell_type": "code",
   "execution_count": 51,
   "id": "81c695d1-ea14-4e90-a85e-b78ba1a4f7ea",
   "metadata": {},
   "outputs": [
    {
     "name": "stdout",
     "output_type": "stream",
     "text": [
      "Rectangle(Point(10,2), Point(2,3))\n",
      "Rectangle(Point(1,2), Point(2,3))\n"
     ]
    }
   ],
   "source": [
    "r1.topleft.x = 10\n",
    "print(r2)\n",
    "print(r3)"
   ]
  },
  {
   "cell_type": "markdown",
   "id": "91eed82c-0d2c-48f3-92a6-def073df9043",
   "metadata": {},
   "source": [
    "- Making a shallow copy of an object won’t clone child objects.\n",
    "Therefore, the copy is not fully independent of the original.\n",
    "- A deep copy of an object will recursively clone child objects. The\n",
    "clone is fully independent of the original, but creating a deep\n",
    "copy is slower.\n",
    "- You can copy arbitrary objects (including custom classes) with\n",
    "the copy module."
   ]
  },
  {
   "cell_type": "markdown",
   "id": "faa134ce-7884-49c6-8d09-ab2429b002f6",
   "metadata": {},
   "source": [
    "# Abstract Base Classes Keep Inheritance in Check"
   ]
  },
  {
   "cell_type": "code",
   "execution_count": 52,
   "id": "03b3e26b-3c84-4fb8-85fe-21d4588f970c",
   "metadata": {},
   "outputs": [],
   "source": [
    "# enforce that a derived class implements a number of methods from the base class\n",
    "class Base:\n",
    "    def foo(self):\n",
    "        raise NotImplementedError\n",
    "    def bar(self):\n",
    "        raise NotImplementedError\n",
    "\n",
    "class Concrete(Base):\n",
    "    def foo(self):\n",
    "        return \"foo called\""
   ]
  },
  {
   "cell_type": "code",
   "execution_count": 53,
   "id": "e6750931-2505-4b7e-a950-3232827b6661",
   "metadata": {},
   "outputs": [
    {
     "data": {
      "text/plain": [
       "'foo called'"
      ]
     },
     "execution_count": 53,
     "metadata": {},
     "output_type": "execute_result"
    }
   ],
   "source": [
    "c = Concrete()\n",
    "c.foo()"
   ]
  },
  {
   "cell_type": "code",
   "execution_count": 54,
   "id": "a153730e-05fe-4d71-b120-69d169cad39a",
   "metadata": {},
   "outputs": [
    {
     "ename": "NotImplementedError",
     "evalue": "",
     "output_type": "error",
     "traceback": [
      "\u001b[0;31m---------------------------------------------------------------------------\u001b[0m",
      "\u001b[0;31mNotImplementedError\u001b[0m                       Traceback (most recent call last)",
      "\u001b[0;32m<ipython-input-54-e96fccd89134>\u001b[0m in \u001b[0;36m<module>\u001b[0;34m\u001b[0m\n\u001b[0;32m----> 1\u001b[0;31m \u001b[0mc\u001b[0m\u001b[0;34m.\u001b[0m\u001b[0mbar\u001b[0m\u001b[0;34m(\u001b[0m\u001b[0;34m)\u001b[0m\u001b[0;34m\u001b[0m\u001b[0;34m\u001b[0m\u001b[0m\n\u001b[0m",
      "\u001b[0;32m<ipython-input-52-09631fdf7dd6>\u001b[0m in \u001b[0;36mbar\u001b[0;34m(self)\u001b[0m\n\u001b[1;32m      4\u001b[0m         \u001b[0;32mraise\u001b[0m \u001b[0mNotImplementedError\u001b[0m\u001b[0;34m\u001b[0m\u001b[0;34m\u001b[0m\u001b[0m\n\u001b[1;32m      5\u001b[0m     \u001b[0;32mdef\u001b[0m \u001b[0mbar\u001b[0m\u001b[0;34m(\u001b[0m\u001b[0mself\u001b[0m\u001b[0;34m)\u001b[0m\u001b[0;34m:\u001b[0m\u001b[0;34m\u001b[0m\u001b[0;34m\u001b[0m\u001b[0m\n\u001b[0;32m----> 6\u001b[0;31m         \u001b[0;32mraise\u001b[0m \u001b[0mNotImplementedError\u001b[0m\u001b[0;34m\u001b[0m\u001b[0;34m\u001b[0m\u001b[0m\n\u001b[0m\u001b[1;32m      7\u001b[0m \u001b[0;34m\u001b[0m\u001b[0m\n\u001b[1;32m      8\u001b[0m \u001b[0;32mclass\u001b[0m \u001b[0mConcrete\u001b[0m\u001b[0;34m(\u001b[0m\u001b[0mBase\u001b[0m\u001b[0;34m)\u001b[0m\u001b[0;34m:\u001b[0m\u001b[0;34m\u001b[0m\u001b[0;34m\u001b[0m\u001b[0m\n",
      "\u001b[0;31mNotImplementedError\u001b[0m: "
     ]
    }
   ],
   "source": [
    "c.bar()"
   ]
  },
  {
   "cell_type": "markdown",
   "id": "1f341c2f-b154-4e83-b9f4-94cca3480ad3",
   "metadata": {},
   "source": [
    "With Python’s abc module that was added in Python 2.6,4 we can do\n",
    "better and solve these remaining issues."
   ]
  },
  {
   "cell_type": "code",
   "execution_count": 55,
   "id": "d0451167-3c44-40a4-9061-ae92ab5c4608",
   "metadata": {},
   "outputs": [],
   "source": [
    "from abc import ABCMeta, abstractmethod"
   ]
  },
  {
   "cell_type": "code",
   "execution_count": 65,
   "id": "f9dfef0d-f916-400c-ab9a-94e97ef3d609",
   "metadata": {},
   "outputs": [],
   "source": [
    "class Base(metaclass=ABCMeta):\n",
    "    @abstractmethod\n",
    "    def foo():\n",
    "        pass\n",
    "    @abstractmethod\n",
    "    def bar():\n",
    "        pass"
   ]
  },
  {
   "cell_type": "code",
   "execution_count": 66,
   "id": "f3c98cbf-85b5-4d2b-9605-b9a461384817",
   "metadata": {},
   "outputs": [],
   "source": [
    "class Concrete(Base):\n",
    "    def foo(self):\n",
    "        pass"
   ]
  },
  {
   "cell_type": "code",
   "execution_count": 67,
   "id": "b8b7ab87-663e-4e2d-82ec-ada5e0876a0f",
   "metadata": {},
   "outputs": [
    {
     "ename": "TypeError",
     "evalue": "Can't instantiate abstract class Concrete with abstract methods bar",
     "output_type": "error",
     "traceback": [
      "\u001b[0;31m---------------------------------------------------------------------------\u001b[0m",
      "\u001b[0;31mTypeError\u001b[0m                                 Traceback (most recent call last)",
      "\u001b[0;32m<ipython-input-67-fe32dafd664e>\u001b[0m in \u001b[0;36m<module>\u001b[0;34m\u001b[0m\n\u001b[1;32m      1\u001b[0m \u001b[0;31m# Being notified about missing methods at instantiation time is a great advantage.\u001b[0m\u001b[0;34m\u001b[0m\u001b[0;34m\u001b[0m\u001b[0;34m\u001b[0m\u001b[0m\n\u001b[0;32m----> 2\u001b[0;31m \u001b[0mc\u001b[0m \u001b[0;34m=\u001b[0m \u001b[0mConcrete\u001b[0m\u001b[0;34m(\u001b[0m\u001b[0;34m)\u001b[0m\u001b[0;34m\u001b[0m\u001b[0;34m\u001b[0m\u001b[0m\n\u001b[0m",
      "\u001b[0;31mTypeError\u001b[0m: Can't instantiate abstract class Concrete with abstract methods bar"
     ]
    }
   ],
   "source": [
    "# Being notified about missing methods at instantiation time is a great advantage.\n",
    "c = Concrete()"
   ]
  },
  {
   "cell_type": "markdown",
   "id": "17f1a4e1-034f-42cb-a879-fec570cfb795",
   "metadata": {},
   "source": [
    "- Abstract Base Classes (ABCs) ensure that derived classes implement\n",
    "particular methods from the base class at instantiation\n",
    "time.\n",
    "- Using ABCs can help avoid bugs and make class hierarchies easier\n",
    "to maintain."
   ]
  },
  {
   "cell_type": "markdown",
   "id": "0eec3ef0-f05b-4f6f-a4ca-5a624b1ed145",
   "metadata": {},
   "source": [
    "# What Namedtuples Are Good For"
   ]
  },
  {
   "cell_type": "markdown",
   "id": "7fbb45b2-7cbb-4d1e-9567-b2ed8e6b2f1f",
   "metadata": {},
   "source": [
    "**namedtuples are a memory efficient\n",
    "shortcut to defining an immutable class in Python manually**"
   ]
  },
  {
   "cell_type": "markdown",
   "id": "fdd13551-97ae-4575-b932-593158b35c1c",
   "metadata": {},
   "source": [
    "# Class vs Instance Variable Pitfalls"
   ]
  },
  {
   "cell_type": "code",
   "execution_count": 68,
   "id": "9074f25e-f4f4-4e7b-822d-7dd64242138b",
   "metadata": {},
   "outputs": [],
   "source": [
    "class Dog:\n",
    "    num_legs = 4 # <- Class variable\n",
    "    def __init__(self, name):\n",
    "        self.name = name # <- Instance variable"
   ]
  },
  {
   "cell_type": "code",
   "execution_count": 71,
   "id": "67709a71-34be-4fa9-a190-34b468303b82",
   "metadata": {},
   "outputs": [],
   "source": [
    "jack = Dog(\"jack\")\n",
    "jill = Dog(\"jill\")"
   ]
  },
  {
   "cell_type": "code",
   "execution_count": 72,
   "id": "5b2abd0d-0a63-470c-a506-1a6c7b3f858d",
   "metadata": {},
   "outputs": [
    {
     "data": {
      "text/plain": [
       "('jack', 'jill')"
      ]
     },
     "execution_count": 72,
     "metadata": {},
     "output_type": "execute_result"
    }
   ],
   "source": [
    "jack.name, jill.name"
   ]
  },
  {
   "cell_type": "code",
   "execution_count": 73,
   "id": "b95bc92a-cf78-4d6e-84fb-05a0343ee958",
   "metadata": {},
   "outputs": [
    {
     "data": {
      "text/plain": [
       "(4, 4, 4)"
      ]
     },
     "execution_count": 73,
     "metadata": {},
     "output_type": "execute_result"
    }
   ],
   "source": [
    "jack.num_legs, jill.num_legs, Dog.num_legs"
   ]
  },
  {
   "cell_type": "markdown",
   "id": "b7c6f4a0-d8c6-460a-b9cc-654881b88cbb",
   "metadata": {},
   "source": [
    "Instance variables are specific to each object instance and are created when the \\_\\_init__ constructor\n",
    "runs—they don’t even exist on the class itself."
   ]
  },
  {
   "cell_type": "code",
   "execution_count": 74,
   "id": "a938dca2-8a45-497a-a4ce-32be95e7062c",
   "metadata": {},
   "outputs": [
    {
     "ename": "AttributeError",
     "evalue": "type object 'Dog' has no attribute 'name'",
     "output_type": "error",
     "traceback": [
      "\u001b[0;31m---------------------------------------------------------------------------\u001b[0m",
      "\u001b[0;31mAttributeError\u001b[0m                            Traceback (most recent call last)",
      "\u001b[0;32m<ipython-input-74-629675d46941>\u001b[0m in \u001b[0;36m<module>\u001b[0;34m\u001b[0m\n\u001b[0;32m----> 1\u001b[0;31m \u001b[0mDog\u001b[0m\u001b[0;34m.\u001b[0m\u001b[0mname\u001b[0m\u001b[0;34m\u001b[0m\u001b[0;34m\u001b[0m\u001b[0m\n\u001b[0m",
      "\u001b[0;31mAttributeError\u001b[0m: type object 'Dog' has no attribute 'name'"
     ]
    }
   ],
   "source": [
    "Dog.name"
   ]
  },
  {
   "cell_type": "code",
   "execution_count": 76,
   "id": "1923b245-d7b4-4236-8f5d-f698d61e6b75",
   "metadata": {},
   "outputs": [
    {
     "name": "stdout",
     "output_type": "stream",
     "text": [
      "6 6\n"
     ]
    }
   ],
   "source": [
    "# modifying a class variable on the class namespace affects all instances of the class.\n",
    "Dog.num_legs = 6\n",
    "print(jack.num_legs, jill.num_legs)"
   ]
  },
  {
   "cell_type": "code",
   "execution_count": 77,
   "id": "bd247549-3fa8-49f7-a630-8671762aec0b",
   "metadata": {},
   "outputs": [
    {
     "name": "stdout",
     "output_type": "stream",
     "text": [
      "6 4\n"
     ]
    }
   ],
   "source": [
    "Dog.num_legs = 4\n",
    "jack.num_legs = 6\n",
    "\n",
    "print(jack.num_legs, jill.num_legs)"
   ]
  },
  {
   "cell_type": "markdown",
   "id": "d80c3f14-21a0-4155-b89a-af460d782f41",
   "metadata": {},
   "source": [
    "we introduced a num_legs instance variable to the\n",
    "Jack instance. And now the new num_legs instance variable “shadows”\n",
    "the class variable of the same name, overriding and hiding it\n",
    "when we access the object instance scope:"
   ]
  },
  {
   "cell_type": "code",
   "execution_count": 78,
   "id": "2e2830b2-3712-4832-8da5-dd890fcc2b2b",
   "metadata": {},
   "outputs": [
    {
     "name": "stdout",
     "output_type": "stream",
     "text": [
      "6 4\n"
     ]
    }
   ],
   "source": [
    "print(jack.num_legs, jack.__class__.num_legs)"
   ]
  },
  {
   "cell_type": "markdown",
   "id": "e8964b31-19c5-47bb-9cc7-f146793af5b1",
   "metadata": {},
   "source": [
    "To tell you the truth, trying to modify a class variable through an object\n",
    "instance—which then accidentally creates an instance variable of the\n",
    "same name, shadowing the original class variable—is a bit of an OOP\n",
    "pitfall in Python."
   ]
  },
  {
   "cell_type": "code",
   "execution_count": 79,
   "id": "9ca9c39f-60ce-4101-ba1f-a3127c1a56da",
   "metadata": {},
   "outputs": [],
   "source": [
    "class CountedObject:\n",
    "    num_instances = 0\n",
    "    def __init__(self):\n",
    "        self.__class__.num_instances += 1"
   ]
  },
  {
   "cell_type": "code",
   "execution_count": 80,
   "id": "b8512106-3e06-480e-b108-abab05fe49bf",
   "metadata": {},
   "outputs": [
    {
     "data": {
      "text/plain": [
       "0"
      ]
     },
     "execution_count": 80,
     "metadata": {},
     "output_type": "execute_result"
    }
   ],
   "source": [
    "CountedObject.num_instances"
   ]
  },
  {
   "cell_type": "code",
   "execution_count": 81,
   "id": "093ffb38-a0d7-4690-bf7c-b222888e622d",
   "metadata": {},
   "outputs": [
    {
     "data": {
      "text/plain": [
       "1"
      ]
     },
     "execution_count": 81,
     "metadata": {},
     "output_type": "execute_result"
    }
   ],
   "source": [
    "CountedObject().num_instances"
   ]
  },
  {
   "cell_type": "code",
   "execution_count": 82,
   "id": "e967dd21-0faf-4467-8f33-755bef3c6a57",
   "metadata": {},
   "outputs": [
    {
     "data": {
      "text/plain": [
       "2"
      ]
     },
     "execution_count": 82,
     "metadata": {},
     "output_type": "execute_result"
    }
   ],
   "source": [
    "CountedObject().num_instances"
   ]
  },
  {
   "cell_type": "code",
   "execution_count": 83,
   "id": "28f0d01b-06e4-4142-b3e5-1f64a5446bc7",
   "metadata": {},
   "outputs": [
    {
     "data": {
      "text/plain": [
       "3"
      ]
     },
     "execution_count": 83,
     "metadata": {},
     "output_type": "execute_result"
    }
   ],
   "source": [
    "CountedObject().num_instances"
   ]
  },
  {
   "cell_type": "code",
   "execution_count": 84,
   "id": "aa8d72a8-632c-4553-8977-15fdca52ddfb",
   "metadata": {},
   "outputs": [],
   "source": [
    "# WARNING: This implementation contains a bug\n",
    "class BuggyCountedObject:\n",
    "    num_instances = 0\n",
    "    def __init__(self):\n",
    "        self.num_instances += 1 # !!!"
   ]
  },
  {
   "cell_type": "markdown",
   "id": "f963510f-8f1e-465d-a7dc-4d112fc14a1b",
   "metadata": {},
   "source": [
    "I accidentally “shadowed” the\n",
    "num_instance class variable by creating an instance variable of the\n",
    "same name in the constructor."
   ]
  },
  {
   "cell_type": "code",
   "execution_count": 86,
   "id": "b3b95fce-96f7-4337-9841-79dc48ff1dc6",
   "metadata": {},
   "outputs": [
    {
     "data": {
      "text/plain": [
       "0"
      ]
     },
     "execution_count": 86,
     "metadata": {},
     "output_type": "execute_result"
    }
   ],
   "source": [
    "BuggyCountedObject.num_instances"
   ]
  },
  {
   "cell_type": "code",
   "execution_count": 87,
   "id": "7741a65e-74f8-473b-84f7-21e8ccca0ddc",
   "metadata": {},
   "outputs": [
    {
     "data": {
      "text/plain": [
       "1"
      ]
     },
     "execution_count": 87,
     "metadata": {},
     "output_type": "execute_result"
    }
   ],
   "source": [
    "BuggyCountedObject().num_instances"
   ]
  },
  {
   "cell_type": "code",
   "execution_count": 88,
   "id": "4ed32f00-7730-4b23-a966-1726a4967dc1",
   "metadata": {},
   "outputs": [
    {
     "data": {
      "text/plain": [
       "1"
      ]
     },
     "execution_count": 88,
     "metadata": {},
     "output_type": "execute_result"
    }
   ],
   "source": [
    "BuggyCountedObject().num_instances"
   ]
  },
  {
   "cell_type": "markdown",
   "id": "b898e0d6-2cf5-4883-8f5f-0ef044dd511d",
   "metadata": {},
   "source": [
    "# Instance, Class, and Static Methods Demystified"
   ]
  },
  {
   "cell_type": "code",
   "execution_count": 89,
   "id": "9c0842fe-de36-46e0-937d-fd30aa706721",
   "metadata": {},
   "outputs": [],
   "source": [
    "class Pizza:\n",
    "    def __init__(self, ingredients):\n",
    "        self.ingredients = ingredients\n",
    "    def __repr__(self):\n",
    "        return f'Pizza({self.ingredients!r})'\n",
    "    @classmethod\n",
    "    def margherita(cls):\n",
    "        return cls(['mozzarella', 'tomatoes'])\n",
    "    @classmethod\n",
    "    def prosciutto(cls):\n",
    "        return cls(['mozzarella', 'tomatoes', 'ham'])"
   ]
  },
  {
   "cell_type": "code",
   "execution_count": 90,
   "id": "19ba1c0e-804c-4660-9bf0-0a04c3f9cb69",
   "metadata": {},
   "outputs": [
    {
     "data": {
      "text/plain": [
       "Pizza(['mozzarella', 'tomatoes'])"
      ]
     },
     "execution_count": 90,
     "metadata": {},
     "output_type": "execute_result"
    }
   ],
   "source": [
    "Pizza.margherita()"
   ]
  },
  {
   "cell_type": "code",
   "execution_count": 91,
   "id": "df1e5892-802c-4f82-a07c-5c8fdf9c6c78",
   "metadata": {},
   "outputs": [
    {
     "data": {
      "text/plain": [
       "Pizza(['mozzarella', 'tomatoes'])"
      ]
     },
     "execution_count": 91,
     "metadata": {},
     "output_type": "execute_result"
    }
   ],
   "source": [
    "Pizza.margherita()"
   ]
  },
  {
   "cell_type": "markdown",
   "id": "cd031a47-817d-4b10-9917-c9e879a3ce00",
   "metadata": {},
   "source": [
    "**Key Takeaways**\n",
    "- Instance methods need a class instance and can access the instance\n",
    "through self.\n",
    "- Class methods don’t need a class instance. They can’t access the\n",
    "instance (self) but they have access to the class itself via cls.\n",
    "- Static methods don’t have access to cls or self. They work like\n",
    "regular functions but belong to the class’ namespace.\n",
    "- Static and class methods communicate and (to a certain degree)\n",
    "enforce developer intent about class design. This can have definite\n",
    "maintenance benefits."
   ]
  },
  {
   "cell_type": "code",
   "execution_count": null,
   "id": "3171c12f-9501-4a1a-a99f-15fdf91923ea",
   "metadata": {},
   "outputs": [],
   "source": []
  }
 ],
 "metadata": {
  "kernelspec": {
   "display_name": "Python 3",
   "language": "python",
   "name": "python3"
  },
  "language_info": {
   "codemirror_mode": {
    "name": "ipython",
    "version": 3
   },
   "file_extension": ".py",
   "mimetype": "text/x-python",
   "name": "python",
   "nbconvert_exporter": "python",
   "pygments_lexer": "ipython3",
   "version": "3.7.4"
  }
 },
 "nbformat": 4,
 "nbformat_minor": 5
}
